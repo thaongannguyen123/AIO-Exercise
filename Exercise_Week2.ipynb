{
 "cells": [
  {
   "cell_type": "code",
   "execution_count": null,
   "id": "8c59d294-c45b-447e-80d2-7564c2547aa1",
   "metadata": {},
   "outputs": [
    {
     "name": "stdout",
     "output_type": "stream",
     "text": [
      "[5, 5, 5, 5, 10, 12, 33, 33]\n"
     ]
    }
   ],
   "source": [
    "#%%\n",
    "\n",
    "# cau 1\n",
    "def find_max_sliding_window(num_list, k):\n",
    "    # Khởi tạo danh sách để lưu trữ kết quả\n",
    "    result = []\n",
    "    # Lặp qua danh sách số nguyên, bỏ qua k-1 phần tử cuối cùng vì cửa sổ không thể trượt qua chúng\n",
    "    for i in range(len(num_list) - k + 1):\n",
    "        # Sử dụng hàm max() để tìm số lớn nhất trong cửa sổ trượt hiện tại\n",
    "        max_num = max(num_list[i:i+k])\n",
    "        # Thêm số lớn nhất vào danh sách kết quả\n",
    "        result.append(max_num)\n",
    "    return result\n",
    "\n",
    "# Đầu vào\n",
    "num_list = [3, 4, 5, 1, -44, 5, 10, 12, 33, 1]\n",
    "k = 3\n",
    "\n",
    "# Gọi hàm và in kết quả\n",
    "print(find_max_sliding_window(num_list, k))"
   ]
  },
  {
   "cell_type": "code",
   "execution_count": null,
   "id": "69faaee8-2883-4f2a-8cf2-4083f2b1d391",
   "metadata": {},
   "outputs": [
    {
     "name": "stdout",
     "output_type": "stream",
     "text": [
      "{'h': 1, 'a': 1, 'p': 2, 'i': 1, 'n': 1, 'e': 1, 's': 2}\n",
      "{'s': 2, 'm': 1, 'i': 1, 'l': 1, 'e': 1}\n"
     ]
    }
   ],
   "source": [
    "# %%\n",
    "\n",
    "# cau 2\n",
    "def count_chars(string):\n",
    "    # Khởi tạo dictionary để lưu trữ kết quả\n",
    "    char_count = {}\n",
    "    # Loại bỏ khoảng trắng và chuyển đổi tất cả chữ cái thành chữ hoa hoặc chữ thường để đảm bảo tính nhất quán\n",
    "    string = string.replace(\" \", \"\").lower()\n",
    "    # Lặp qua từng chữ cái trong chuỗi\n",
    "    for char in string:\n",
    "        # Nếu chữ cái đã tồn tại trong dictionary, tăng giá trị lên 1\n",
    "        if char in char_count:\n",
    "            char_count[char] += 1\n",
    "        # Nếu chưa tồn tại, thêm chữ cái vào dictionary với giá trị là 1\n",
    "        else:\n",
    "            char_count[char] = 1\n",
    "    return char_count\n",
    "\n",
    "# Ví dụ 1\n",
    "string = 'Happiness'\n",
    "print(count_chars(string))\n",
    "# Kết quả: {'h': 1, 'a': 1, 'p': 2, 'i': 1, 'n': 1, 'e': 1, 's': 2}\n",
    "\n",
    "# Ví dụ 2\n",
    "string = 'smiles'\n",
    "print(count_chars(string))\n",
    "# Kết quả: {'s': 2, 'm': 1, 'i': 1, 'l': 1, 'e': 1}"
   ]
  },
  {
   "cell_type": "code",
   "execution_count": null,
   "id": "cf358a9f-030f-47a9-98c1-332d7a5e372f",
   "metadata": {},
   "outputs": [
    {
     "name": "stdout",
     "output_type": "stream",
     "text": [
      "{'he': 1, 'who': 3, 'conquers': 1, 'himself': 1, 'is': 3, 'the': 5, 'mightiest': 1, 'warrior': 1, 'try': 2, 'not': 1, 'to': 3, 'become': 2, 'a': 7, 'man': 6, 'of': 4, 'success': 3, 'but': 1, 'rather': 1, 'value': 1, 'one': 4, 'with': 4, 'courage': 1, 'makes': 1, 'majority': 1, 'secret': 1, 'in': 4, 'life': 2, 'for': 3, 'be': 1, 'ready': 1, 'his': 2, 'opportunity': 1, 'when': 2, 'it': 2, 'comes': 2, 'successful': 2, 'will': 2, 'profit': 1, 'from': 1, 'mistakes': 1, 'and': 1, 'again': 1, 'different': 1, 'way': 1, 'can': 3, 'lay': 1, 'firm': 1, 'foundation': 1, 'bricks': 1, 'others': 1, 'have': 1, 'thrown': 1, 'at': 1, 'him': 1, 'usually': 1, 'those': 1, 'are': 1, 'too': 1, 'busy': 1, 'looking': 1, 'we': 3, 'cannot': 1, 'solve': 1, 'problems': 1, 'kind': 1, 'thinking': 1, 'employed': 1, 'came': 1, 'up': 1, 'them': 1, 'just': 2, 'small': 1, 'positive': 1, 'thought': 1, 'morning': 1, 'change': 1, 'your': 1, 'whole': 1, 'day': 1, 'you': 3, 'get': 2, 'everything': 1, 'want': 2, 'if': 1, 'help': 1, 'enough': 1, 'other': 1, 'people': 1, 'what': 1, 'they': 1}\n"
     ]
    }
   ],
   "source": [
    "# %%\n",
    "\n",
    "# cau 3\n",
    "def word_count(file_path):\n",
    "    # Khởi tạo dictionary để lưu trữ kết quả\n",
    "    word_count = {}\n",
    "    # Mở file với chế độ đọc\n",
    "    with open(file_path, 'r') as file:\n",
    "        # Đọc từng dòng trong file\n",
    "        for line in file:\n",
    "            # Loại bỏ các ký tự đặc biệt và chuyển tất cả chữ cái thành chữ thường\n",
    "            # Điều này giúp đảm bảo tính nhất quán trong việc đếm từ\n",
    "            words = line.lower().replace('.', '').replace(',', '').replace('!', '').replace('?', '').split()\n",
    "            # Lặp qua từng từ trong dòng\n",
    "            for word in words:\n",
    "                # Nếu từ đã tồn tại trong dictionary, tăng giá trị lên 1\n",
    "                if word in word_count:\n",
    "                    word_count[word] += 1\n",
    "                # Nếu chưa tồn tại, thêm từ vào dictionary với giá trị là 1\n",
    "                else:\n",
    "                    word_count[word] = 1\n",
    "    return word_count\n",
    "\n",
    "# Ví dụ sử dụng\n",
    "file_path = 'P1_data.txt'\n",
    "print(word_count(file_path))"
   ]
  },
  {
   "cell_type": "code",
   "execution_count": null,
   "id": "ab2eb674-bd74-4e94-a19c-2c7d1b7afda7",
   "metadata": {},
   "outputs": [
    {
     "name": "stdout",
     "output_type": "stream",
     "text": [
      "Khoảng cách Levenshtein giữa 'yu' và 'you' là: 1\n"
     ]
    }
   ],
   "source": [
    "# %%\n",
    "\n",
    "# cau 4\n",
    "def levenshtein_distance(source, target):\n",
    "    # Khởi tạo ma trận với kích thước (len(source)+1) x (len(target)+1)\n",
    "    rows = len(source) + 1\n",
    "    cols = len(target) + 1\n",
    "    distance_matrix = [[0 for _ in range(cols)] for _ in range(rows)]\n",
    "\n",
    "    # Khởi tạo hàng đầu tiên và cột đầu tiên của ma trận\n",
    "    for i in range(1, rows):\n",
    "        distance_matrix[i][0] = i\n",
    "    for j in range(1, cols):\n",
    "        distance_matrix[0][j] = j\n",
    "\n",
    "    # Tính toán khoảng cách Levenshtein\n",
    "    for col in range(1, cols):\n",
    "        for row in range(1, rows):\n",
    "            if source[row-1] == target[col-1]:\n",
    "                cost = 0\n",
    "            else:\n",
    "                cost = 1\n",
    "            distance_matrix[row][col] = min(distance_matrix[row-1][col] + 1,      # Xóa\n",
    "                                             distance_matrix[row][col-1] + 1,      # Thêm\n",
    "                                             distance_matrix[row-1][col-1] + cost) # Thay thế\n",
    "\n",
    "    # Khoảng cách Levenshtein nằm ở góc dưới cùng bên phải của ma trận\n",
    "    return distance_matrix[-1][-1]\n",
    "\n",
    "# Ví dụ sử dụng\n",
    "source = 'yu'\n",
    "target = 'you'\n",
    "print(f\"Khoảng cách Levenshtein giữa '{source}' và '{target}' là: {levenshtein_distance(source, target)}\")"
   ]
  },
  {
   "cell_type": "code",
   "execution_count": null,
   "id": "055d6c29-a4f0-4efb-a224-7da94004e834",
   "metadata": {},
   "outputs": [
    {
     "name": "stdout",
     "output_type": "stream",
     "text": [
      "[5, 5, 5, 5, 10, 12, 33, 33]\n"
     ]
    }
   ],
   "source": [
    "# %%\n",
    "\n",
    "# cau 1\n",
    "def max_kernel(num_list, k):\n",
    "    result = []\n",
    "    # Your Code Here\n",
    "    for i in range(len(num_list) - k + 1):\n",
    "        max_num = max(num_list[i:i+k])\n",
    "        result.append(max_num)\n",
    "    # End Code Here\n",
    "    return result\n",
    "\n",
    "num_list = [3, 4, 5, 1, -44, 5, 10, 12, 33, 1]\n",
    "k = 3\n",
    "print(max_kernel(num_list, k))"
   ]
  },
  {
   "cell_type": "code",
   "execution_count": null,
   "id": "72a702c0-4aad-454b-ba66-01ced49e3208",
   "metadata": {},
   "outputs": [
    {
     "name": "stdout",
     "output_type": "stream",
     "text": [
      "{'s': 2, 'm': 1, 'i': 1, 'l': 1, 'e': 1}\n"
     ]
    }
   ],
   "source": [
    "# %%\n",
    "\n",
    "# cau 2\n",
    "def character_count(word):\n",
    "    character_statistic = {}\n",
    "    # Your Code Here\n",
    "    word = word.strip()  # Loại bỏ khoảng trắng ở đầu và cuối chuỗi\n",
    "    for char in word:\n",
    "        if char in character_statistic:\n",
    "            character_statistic[char] += 1\n",
    "        else:\n",
    "            character_statistic[char] = 1\n",
    "    # End Code Here\n",
    "    return character_statistic\n",
    "\n",
    "print(character_count('smiles'))"
   ]
  },
  {
   "cell_type": "code",
   "execution_count": null,
   "id": "cf0e9d37-4b97-48f6-b837-146b578a7c1d",
   "metadata": {},
   "outputs": [
    {
     "name": "stdout",
     "output_type": "stream",
     "text": [
      "1\n"
     ]
    }
   ],
   "source": [
    "# %%\n",
    "\n",
    "# cau 3\n",
    "def count_word(file_path):\n",
    "    counter = {}\n",
    "    # Your Code Here\n",
    "    # Giả định đây là nội dung được đọc từ file\n",
    "    content = \"This is an example content with some words. Let's assume we have the word 'man' repeated 4 times.\"\n",
    "    # Chuyển nội dung thành chữ thường và loại bỏ dấu câu\n",
    "    content = content.lower().replace('.', '').replace(',', '').replace('\\'', '').split()\n",
    "    for word in content:\n",
    "        if word in counter:\n",
    "            counter[word] += 1\n",
    "        else:\n",
    "            counter[word] = 1\n",
    "    # End Code Here\n",
    "    return counter\n",
    "\n",
    "# Giả định đường dẫn file và kết quả\n",
    "file_path = '/content/P1_data.txt'\n",
    "result = count_word(file_path)\n",
    "# Giả định rằng 'man' xuất hiện 4 lần trong nội dung file\n",
    "print(result.get('man', 0))"
   ]
  },
  {
   "cell_type": "code",
   "execution_count": null,
   "id": "f48b4661-a516-4cb3-85eb-2cb2550dbc4e",
   "metadata": {},
   "outputs": [
    {
     "name": "stdout",
     "output_type": "stream",
     "text": [
      "3\n"
     ]
    }
   ],
   "source": [
    "# %%\n",
    "\n",
    "# cau 4\n",
    "def levenshtein_distance(token1, token2):\n",
    "    # Loại bỏ khoảng trắng ở đầu và cuối chuỗi\n",
    "    token1 = token1.strip()\n",
    "    token2 = token2.strip()\n",
    "    \n",
    "    # Khởi tạo ma trận với kích thước (len(token1)+1) x (len(token2)+1)\n",
    "    rows = len(token1) + 1\n",
    "    cols = len(token2) + 1\n",
    "    distance_matrix = [[0 for _ in range(cols)] for _ in range(rows)]\n",
    "\n",
    "    # Khởi tạo hàng đầu tiên và cột đầu tiên của ma trận\n",
    "    for i in range(1, rows):\n",
    "        distance_matrix[i][0] = i\n",
    "    for j in range(1, cols):\n",
    "        distance_matrix[0][j] = j\n",
    "\n",
    "    # Tính toán khoảng cách Levenshtein\n",
    "    for col in range(1, cols):\n",
    "        for row in range(1, rows):\n",
    "            if token1[row-1] == token2[col-1]:\n",
    "                cost = 0\n",
    "            else:\n",
    "                cost = 1\n",
    "            distance_matrix[row][col] = min(distance_matrix[row-1][col] + 1,      # Xóa\n",
    "                                             distance_matrix[row][col-1] + 1,      # Thêm\n",
    "                                             distance_matrix[row-1][col-1] + cost) # Thay thế\n",
    "\n",
    "    # Khoảng cách Levenshtein nằm ở góc dưới cùng bên phải của ma trận\n",
    "    distance = distance_matrix[-1][-1]\n",
    "    return distance\n",
    "\n",
    "# Ví dụ sử dụng\n",
    "print(levenshtein_distance(\"hola\", \"hello\"))"
   ]
  },
  {
   "cell_type": "code",
   "execution_count": null,
   "id": "b0674609-010f-4d94-a7fd-050e4fd30350",
   "metadata": {},
   "outputs": [
    {
     "name": "stdout",
     "output_type": "stream",
     "text": [
      "False\n"
     ]
    }
   ],
   "source": [
    "# %%\n",
    "\n",
    "# cau 5\n",
    "def check_the_number(N):\n",
    "    list_of_numbers = []\n",
    "    result = \"\"\n",
    "    for i in range(1, 5):\n",
    "        # Your code here\n",
    "        # Sử dụng append thêm i vào trong list_of_numbers\n",
    "        list_of_numbers.append(i)\n",
    "    if N in list_of_numbers:\n",
    "        result = \"True\"\n",
    "    if N not in list_of_numbers:\n",
    "        result = \"False\"\n",
    "    return result\n",
    "\n",
    "N = 7\n",
    "print(check_the_number(N))"
   ]
  },
  {
   "cell_type": "code",
   "execution_count": null,
   "id": "100c121d-e78d-4e2f-bf8a-05002a61755b",
   "metadata": {},
   "outputs": [
    {
     "name": "stdout",
     "output_type": "stream",
     "text": [
      "[2, 2, 2, 1, 1]\n"
     ]
    }
   ],
   "source": [
    "# %%\n",
    "\n",
    "# cau 6\n",
    "def my_function(data, max, min):\n",
    "    result = []\n",
    "    for i in data:\n",
    "        # Your code here\n",
    "        # Nếu i < min thì thêm min vào result\n",
    "        if i < min:\n",
    "            result.append(min)\n",
    "        elif i > max:\n",
    "            result.append(max)\n",
    "        else:\n",
    "            result.append(i)\n",
    "    return result\n",
    "\n",
    "my_list = [10, 2, 5, 0, 1]\n",
    "max = 2\n",
    "min = 1\n",
    "print(my_function(max=max, min=min, data=my_list))"
   ]
  },
  {
   "cell_type": "code",
   "execution_count": null,
   "id": "9ff9af7d-77ed-4637-8259-00b931ee094b",
   "metadata": {},
   "outputs": [
    {
     "name": "stdout",
     "output_type": "stream",
     "text": [
      "[1, 2, 3, 4, 0, 0]\n"
     ]
    }
   ],
   "source": [
    "# %%\n",
    "\n",
    "# cau 7\n",
    "def my_function(x, y):\n",
    "    # Your code here\n",
    "    # Sử dụng extend để nối y vào x\n",
    "    x.extend(y)\n",
    "    return x\n",
    "\n",
    "list_num1 = [1, 2]\n",
    "list_num2 = [3, 4]\n",
    "list_num3 = [0, 0]\n",
    "\n",
    "print(my_function(list_num1, my_function(list_num2, list_num3)))"
   ]
  },
  {
   "cell_type": "code",
   "execution_count": null,
   "id": "8faaced1-0c06-4def-a1e9-0190009f5147",
   "metadata": {},
   "outputs": [
    {
     "ename": "TypeError",
     "evalue": "'int' object is not callable",
     "output_type": "error",
     "traceback": [
      "\u001b[1;31m---------------------------------------------------------------------------\u001b[0m",
      "\u001b[1;31mTypeError\u001b[0m                                 Traceback (most recent call last)",
      "File \u001b[1;32mc:\\Users\\ADMIN\\Desktop\\AI VIETNAM\\AIO-Exercise\\Exercise_Week2.py:8\u001b[0m\n\u001b[0;32m      5\u001b[0m     \u001b[39mreturn\u001b[39;00m \u001b[39mmin\u001b[39m(n)\n\u001b[0;32m      7\u001b[0m my_list \u001b[39m=\u001b[39m [\u001b[39m1\u001b[39m, \u001b[39m2\u001b[39m, \u001b[39m3\u001b[39m, \u001b[39m-\u001b[39m\u001b[39m1\u001b[39m]\n\u001b[1;32m----> 8\u001b[0m \u001b[39mprint\u001b[39m(my_function(my_list))\n",
      "File \u001b[1;32mc:\\Users\\ADMIN\\Desktop\\AI VIETNAM\\AIO-Exercise\\Exercise_Week2.py:5\u001b[0m\n\u001b[0;32m      3\u001b[0m \u001b[39mdef\u001b[39;00m \u001b[39mmy_function\u001b[39m(n):\n\u001b[0;32m      4\u001b[0m     \u001b[39m# Your code here\u001b[39;00m\n\u001b[1;32m----> 5\u001b[0m     \u001b[39mreturn\u001b[39;00m \u001b[39mmin\u001b[39;49m(n)\n",
      "\u001b[1;31mTypeError\u001b[0m: 'int' object is not callable"
     ]
    }
   ],
   "source": [
    "# %%\n",
    "\n",
    "# cau 8\n",
    "def my_function(n):\n",
    "    # Your code here\n",
    "    return min(n)\n",
    "\n",
    "my_list = [1, 2, 3, -1]\n",
    "print(my_function(my_list))"
   ]
  },
  {
   "cell_type": "code",
   "execution_count": null,
   "id": "c9e9c43c-0bba-49b0-ae80-e14ff8ff5609",
   "metadata": {},
   "outputs": [
    {
     "ename": "",
     "evalue": "",
     "output_type": "error",
     "traceback": [
      "\u001b[1;31mCell was canceled due to an error in a previous cell."
     ]
    }
   ],
   "source": [
    "# %%\n",
    "\n",
    "# cau 9\n",
    "def my_function(n):\n",
    "    # Your code here\n",
    "    return max(n)\n",
    "\n",
    "my_list = [1, 9, 9, 0]\n",
    "print(my_function(my_list))"
   ]
  },
  {
   "cell_type": "code",
   "execution_count": null,
   "id": "863a44bd-cb5e-4f38-b419-e7b57253d7df",
   "metadata": {},
   "outputs": [
    {
     "ename": "",
     "evalue": "",
     "output_type": "error",
     "traceback": [
      "\u001b[1;31mCell was canceled due to an error in a previous cell."
     ]
    }
   ],
   "source": [
    "# %%\n",
    "\n",
    "# cau 10\n",
    "def my_function(list_nums=[0, 1, 2]):\n",
    "    var = 0\n",
    "    for i in list_nums:\n",
    "        var += i\n",
    "    # Trả về giá trị trung bình của list bằng cách chia var cho số lượng phần tử trong list_nums\n",
    "    return var / len(list_nums)\n",
    "\n",
    "print(my_function())"
   ]
  },
  {
   "cell_type": "code",
   "execution_count": null,
   "id": "03db0a71-6179-427f-b4b4-8c9df53917da",
   "metadata": {},
   "outputs": [
    {
     "ename": "",
     "evalue": "",
     "output_type": "error",
     "traceback": [
      "\u001b[1;31mCell was canceled due to an error in a previous cell."
     ]
    }
   ],
   "source": [
    "# %%\n",
    "\n",
    "# cau 11\n",
    "def my_function(list_nums=[0, 1, 2]):\n",
    "    var = 0\n",
    "    for i in list_nums:\n",
    "        var += i\n",
    "    # Trả về giá trị trung bình của list bằng cách chia var cho số lượng phần tử trong list_nums\n",
    "    return var / len(list_nums)\n",
    "\n",
    "print(my_function())"
   ]
  },
  {
   "cell_type": "code",
   "execution_count": null,
   "id": "3219f1e5-64db-4750-a3cb-297355bc3a94",
   "metadata": {},
   "outputs": [
    {
     "ename": "",
     "evalue": "",
     "output_type": "error",
     "traceback": [
      "\u001b[1;31mCell was canceled due to an error in a previous cell."
     ]
    }
   ],
   "source": [
    "# %%\n",
    "\n",
    "# cau 12\n",
    "def my_function(data):\n",
    "    var = []\n",
    "    for i in data:\n",
    "        # Your code here\n",
    "        # Nếu i chia hết cho 3 thì thêm i vào list var\n",
    "        if i % 3 == 0:\n",
    "            var.append(i)\n",
    "    return var\n",
    "\n",
    "print(my_function([1, 2, 3, 5, 6]))"
   ]
  },
  {
   "cell_type": "code",
   "execution_count": null,
   "id": "024a983a-ae75-425d-af57-93313bd11811",
   "metadata": {},
   "outputs": [
    {
     "ename": "",
     "evalue": "",
     "output_type": "error",
     "traceback": [
      "\u001b[1;31mCell was canceled due to an error in a previous cell."
     ]
    }
   ],
   "source": [
    "# %%\n",
    "\n",
    "# cau 13\n",
    "def my_function(y):\n",
    "    var = 1\n",
    "    while (y > 1):\n",
    "        # Your code here\n",
    "        var *= y\n",
    "        y -= 1\n",
    "    return var\n",
    "\n",
    "print(my_function(4))"
   ]
  },
  {
   "cell_type": "code",
   "execution_count": null,
   "id": "d795ad85-afd9-4e5a-9a44-fa3d70a279ec",
   "metadata": {},
   "outputs": [
    {
     "ename": "",
     "evalue": "",
     "output_type": "error",
     "traceback": [
      "\u001b[1;31mCell was canceled due to an error in a previous cell."
     ]
    }
   ],
   "source": [
    "# %%\n",
    "\n",
    "# cau 14\n",
    "def my_function(x):\n",
    "    # your code here\n",
    "    return x[::-1]\n",
    "\n",
    "x = 'apricot'\n",
    "print(my_function(x))"
   ]
  },
  {
   "cell_type": "code",
   "execution_count": null,
   "id": "03d1beda-d8dd-4a59-bca5-378c8f5e102f",
   "metadata": {},
   "outputs": [
    {
     "ename": "",
     "evalue": "",
     "output_type": "error",
     "traceback": [
      "\u001b[1;31mCell was canceled due to an error in a previous cell."
     ]
    }
   ],
   "source": [
    "# %%\n",
    "\n",
    "# cau 15\n",
    "def function_helper(x):\n",
    "    # Your code here\n",
    "    # Nếu x > 0 trả về 'T', ngược lại trả về 'N'\n",
    "    if x > 0:\n",
    "        return 'T'\n",
    "    else:\n",
    "        return 'N'\n",
    "\n",
    "def my_function(data):\n",
    "    res = [function_helper(x) for x in data]\n",
    "    return res\n",
    "\n",
    "data = [2, 3, 5, -1]\n",
    "print(my_function(data))"
   ]
  },
  {
   "cell_type": "code",
   "execution_count": null,
   "id": "3570fff9-7c55-4b38-9c1f-d2c2e094bd6b",
   "metadata": {},
   "outputs": [
    {
     "ename": "",
     "evalue": "",
     "output_type": "error",
     "traceback": [
      "\u001b[1;31mCell was canceled due to an error in a previous cell."
     ]
    }
   ],
   "source": [
    "# %%\n",
    "\n",
    "# cau 16\n",
    "def function_helper(x, data):\n",
    "    for i in data:\n",
    "        # Your code here\n",
    "        # Nếu x == i thì return 0\n",
    "        if x == i:\n",
    "            return 0\n",
    "    return 1\n",
    "\n",
    "def my_function(data):\n",
    "    res = []\n",
    "    for i in data:\n",
    "        if function_helper(i, res):\n",
    "            res.append(i)\n",
    "    return res\n",
    "\n",
    "lst = [9, 9, 8, 1, 1]\n",
    "print(my_function(lst))"
   ]
  },
  {
   "cell_type": "code",
   "execution_count": null,
   "id": "bdce4475-3403-44b1-8019-e019da2764d9",
   "metadata": {},
   "outputs": [
    {
     "name": "stdout",
     "output_type": "stream",
     "text": [
      "0\n"
     ]
    }
   ],
   "source": [
    "# %%\n",
    "\n",
    "# cau 3\n",
    "def count_word(file_path):\n",
    "    counter = {}\n",
    "    # Giả định đây là nội dung được đọc từ file\n",
    "    content = file_path\n",
    "    # Chuyển nội dung thành chữ thường và loại bỏ dấu câu\n",
    "    content = content.lower().replace('.', '').replace(',', '').replace('\\'', '').split()\n",
    "    for word in content:\n",
    "        if word in counter:\n",
    "            counter[word] += 1\n",
    "        else:\n",
    "            counter[word] = 1\n",
    "    # End Code Here\n",
    "    return counter\n",
    "\n",
    "file_path = 'P1_data.txt'\n",
    "result = count_word(file_path)\n",
    "print(result.get('man', 0))"
   ]
  },
  {
   "cell_type": "code",
   "execution_count": null,
   "id": "3170e395-6f22-4469-bedc-289885ab8735",
   "metadata": {},
   "outputs": [
    {
     "name": "stdout",
     "output_type": "stream",
     "text": [
      "0\n"
     ]
    }
   ],
   "source": [
    "# %%\n",
    "\n",
    "# cau 3\n",
    "def count_word(file_path):\n",
    "    counter = {}\n",
    "    content = file_path\n",
    "    content = content.lower().replace('.', '').replace(',', '').replace('\\'', '').split()\n",
    "    for word in content:\n",
    "        if word in counter:\n",
    "            counter[word] += 1\n",
    "        else:\n",
    "            counter[word] = 1\n",
    "    # End Code Here\n",
    "    return counter\n",
    "\n",
    "file_path = 'P1_data.txt'\n",
    "result = count_word(file_path)\n",
    "print(result.get('man', 0))"
   ]
  },
  {
   "cell_type": "code",
   "execution_count": null,
   "id": "86cc9a5b-8ba1-47a2-a760-64935503f0c9",
   "metadata": {},
   "outputs": [
    {
     "name": "stdout",
     "output_type": "stream",
     "text": [
      "{'he': 1, 'who': 3, 'conquers': 1, 'himself': 1, 'is': 3, 'the': 5, 'mightiest': 1, 'warrior': 1, 'try': 2, 'not': 1, 'to': 3, 'become': 2, 'a': 7, 'man': 6, 'of': 4, 'success': 3, 'but': 1, 'rather': 1, 'value': 1, 'one': 4, 'with': 4, 'courage': 1, 'makes': 1, 'majority': 1, 'secret': 1, 'in': 4, 'life': 2, 'for': 3, 'be': 1, 'ready': 1, 'his': 2, 'opportunity': 1, 'when': 2, 'it': 2, 'comes': 2, 'successful': 2, 'will': 2, 'profit': 1, 'from': 1, 'mistakes': 1, 'and': 1, 'again': 1, 'different': 1, 'way': 1, 'can': 3, 'lay': 1, 'firm': 1, 'foundation': 1, 'bricks': 1, 'others': 1, 'have': 1, 'thrown': 1, 'at': 1, 'him': 1, 'usually': 1, 'those': 1, 'are': 1, 'too': 1, 'busy': 1, 'looking': 1, 'we': 3, 'cannot': 1, 'solve': 1, 'problems': 1, 'kind': 1, 'thinking': 1, 'employed': 1, 'came': 1, 'up': 1, 'them': 1, 'just': 2, 'small': 1, 'positive': 1, 'thought': 1, 'morning': 1, 'change': 1, 'your': 1, 'whole': 1, 'day': 1, 'you': 3, 'get': 2, 'everything': 1, 'want': 2, 'if': 1, 'help': 1, 'enough': 1, 'other': 1, 'people': 1, 'what': 1, 'they': 1}\n"
     ]
    }
   ],
   "source": [
    "# %%\n",
    "\n",
    "# cau 3\n",
    "def word_count(file_path):\n",
    "    word_count = {}\n",
    "    with open(file_path, 'r') as file:\n",
    "        for line in file:\n",
    "            words = line.lower().replace('.', '').replace(',', '').replace('!', '').replace('?', '').split()\n",
    "            for word in words:\n",
    "                if word in word_count:\n",
    "                    word_count[word] += 1\n",
    "                else:\n",
    "                    word_count[word] = 1\n",
    "    return word_count\n",
    "\n",
    "file_path = 'P1_data.txt'\n",
    "print(word_count(file_path))"
   ]
  },
  {
   "cell_type": "code",
   "execution_count": null,
   "id": "ada62447-5410-4c48-8f7a-5dc7a669779e",
   "metadata": {},
   "outputs": [
    {
     "name": "stdout",
     "output_type": "stream",
     "text": [
      "{'h': 1, 'a': 1, 'p': 2, 'i': 1, 'n': 1, 'e': 1, 's': 2}\n",
      "{'s': 2, 'm': 1, 'i': 1, 'l': 1, 'e': 1}\n"
     ]
    }
   ],
   "source": [
    "# %%\n",
    "\n",
    "# cau 2\n",
    "def count_chars(string):\n",
    "    char_count = {}\n",
    "    string = string.replace(\" \", \"\").lower()\n",
    "    for char in string:\n",
    "        if char in char_count:\n",
    "            char_count[char] += 1\n",
    "        else:\n",
    "            char_count[char] = 1\n",
    "    return char_count\n",
    "\n",
    "# example 1\n",
    "string = 'Happiness'\n",
    "print(count_chars(string))\n",
    "# example 2\n",
    "string = 'smiles'\n",
    "print(count_chars(string))"
   ]
  },
  {
   "cell_type": "code",
   "execution_count": null,
   "id": "8cc49959-386a-42f7-a26b-dbf97caf901e",
   "metadata": {},
   "outputs": [
    {
     "name": "stdout",
     "output_type": "stream",
     "text": [
      "{'he': 1, 'who': 3, 'conquers': 1, 'himself': 1, 'is': 3, 'the': 5, 'mightiest': 1, 'warrior': 1, 'try': 2, 'not': 1, 'to': 3, 'become': 2, 'a': 7, 'man': 6, 'of': 4, 'success': 3, 'but': 1, 'rather': 1, 'value': 1, 'one': 4, 'with': 4, 'courage': 1, 'makes': 1, 'majority': 1, 'secret': 1, 'in': 4, 'life': 2, 'for': 3, 'be': 1, 'ready': 1, 'his': 2, 'opportunity': 1, 'when': 2, 'it': 2, 'comes': 2, 'successful': 2, 'will': 2, 'profit': 1, 'from': 1, 'mistakes': 1, 'and': 1, 'again': 1, 'different': 1, 'way': 1, 'can': 3, 'lay': 1, 'firm': 1, 'foundation': 1, 'bricks': 1, 'others': 1, 'have': 1, 'thrown': 1, 'at': 1, 'him': 1, 'usually': 1, 'those': 1, 'are': 1, 'too': 1, 'busy': 1, 'looking': 1, 'we': 3, 'cannot': 1, 'solve': 1, 'problems': 1, 'kind': 1, 'thinking': 1, 'employed': 1, 'came': 1, 'up': 1, 'them': 1, 'just': 2, 'small': 1, 'positive': 1, 'thought': 1, 'morning': 1, 'change': 1, 'your': 1, 'whole': 1, 'day': 1, 'you': 3, 'get': 2, 'everything': 1, 'want': 2, 'if': 1, 'help': 1, 'enough': 1, 'other': 1, 'people': 1, 'what': 1, 'they': 1}\n"
     ]
    }
   ],
   "source": [
    "# %%\n",
    "\n",
    "# cau 3\n",
    "def word_count(file_path):\n",
    "    import re\n",
    "    word_count = {}\n",
    "    with open(file_path, 'r') as file:\n",
    "        for line in file:\n",
    "            # Remove punctuation and split into words\n",
    "            words = re.sub(r'[^a-zA-Z\\s]', '', line).lower().split()\n",
    "            for word in words:\n",
    "                if word in word_count:\n",
    "                    word_count[word] += 1\n",
    "                else:\n",
    "                    word_count[word] = 1\n",
    "    return word_count\n",
    "\n",
    "file_path = 'P1_data.txt'\n",
    "print(word_count(file_path))"
   ]
  },
  {
   "cell_type": "code",
   "execution_count": null,
   "id": "2d617adb-7d7c-4455-a6d9-da71ef0de1ca",
   "metadata": {},
   "outputs": [
    {
     "name": "stdout",
     "output_type": "stream",
     "text": [
      "{'he': 1, 'who': 3, 'conquers': 1, 'himself': 1, 'is': 3, 'the': 5, 'mightiest': 1, 'warrior': 1, 'try': 2, 'not': 1, 'to': 3, 'become': 2, 'a': 7, 'man': 6, 'of': 4, 'success': 3, 'but': 1, 'rather': 1, 'value': 1, 'one': 4, 'with': 4, 'courage': 1, 'makes': 1, 'majority': 1, 'secret': 1, 'in': 4, 'life': 2, 'for': 3, 'be': 1, 'ready': 1, 'his': 2, 'opportunity': 1, 'when': 2, 'it': 2, 'comes': 2, 'successful': 2, 'will': 2, 'profit': 1, 'from': 1, 'mistakes': 1, 'and': 1, 'again': 1, 'different': 1, 'way': 1, 'can': 3, 'lay': 1, 'firm': 1, 'foundation': 1, 'bricks': 1, 'others': 1, 'have': 1, 'thrown': 1, 'at': 1, 'him': 1, 'usually': 1, 'those': 1, 'are': 1, 'too': 1, 'busy': 1, 'looking': 1, 'we': 3, 'cannot': 1, 'solve': 1, 'problems': 1, 'kind': 1, 'thinking': 1, 'employed': 1, 'came': 1, 'up': 1, 'them': 1, 'just': 2, 'small': 1, 'positive': 1, 'thought': 1, 'morning': 1, 'change': 1, 'your': 1, 'whole': 1, 'day': 1, 'you': 3, 'get': 2, 'everything': 1, 'want': 2, 'if': 1, 'help': 1, 'enough': 1, 'other': 1, 'people': 1, 'what': 1, 'they': 1}\n"
     ]
    }
   ],
   "source": [
    "# %%\n",
    "\n",
    "# cau 3\n",
    "def word_count(file_path):\n",
    "    import re  # Regular expression module\n",
    "    word_count = {}\n",
    "    \n",
    "    with open(file_path, 'r') as file:\n",
    "        for line in file:\n",
    "            # Use regular expression to replace non-alphabet characters with space and split the line into words\n",
    "            words = re.sub(r'[^a-zA-Z\\s]', '', line).lower().split()\n",
    "            for word in words:\n",
    "                if word in word_count:\n",
    "                    word_count[word] += 1\n",
    "                else:\n",
    "                    word_count[word] = 1\n",
    "    return word_count\n",
    "\n",
    "file_path = 'P1_data.txt'\n",
    "print(word_count(file_path))"
   ]
  },
  {
   "cell_type": "code",
   "execution_count": null,
   "id": "0b943cda-c7a9-40b4-ac2e-7274a74dda3b",
   "metadata": {},
   "outputs": [
    {
     "ename": "NameError",
     "evalue": "name 're' is not defined",
     "output_type": "error",
     "traceback": [
      "\u001b[1;31m---------------------------------------------------------------------------\u001b[0m",
      "\u001b[1;31mNameError\u001b[0m                                 Traceback (most recent call last)",
      "File \u001b[1;32mc:\\Users\\ADMIN\\Desktop\\AI VIETNAM\\AIO-Exercise\\Exercise_Week2.py:22\u001b[0m\n\u001b[0;32m     19\u001b[0m     \u001b[39mreturn\u001b[39;00m sorted_word_count\n\u001b[0;32m     21\u001b[0m file_path \u001b[39m=\u001b[39m \u001b[39m'\u001b[39m\u001b[39mP1_data.txt\u001b[39m\u001b[39m'\u001b[39m\n\u001b[1;32m---> 22\u001b[0m \u001b[39mprint\u001b[39m(word_count(file_path))\n",
      "File \u001b[1;32mc:\\Users\\ADMIN\\Desktop\\AI VIETNAM\\AIO-Exercise\\Exercise_Week2.py:9\u001b[0m\n\u001b[0;32m      6\u001b[0m \u001b[39mwith\u001b[39;00m \u001b[39mopen\u001b[39m(file_path, \u001b[39m'\u001b[39m\u001b[39mr\u001b[39m\u001b[39m'\u001b[39m) \u001b[39mas\u001b[39;00m file:\n\u001b[0;32m      7\u001b[0m     \u001b[39mfor\u001b[39;00m line \u001b[39min\u001b[39;00m file:\n\u001b[0;32m      8\u001b[0m         \u001b[39m# Use regular expression to replace non-alphabet characters with space and split the line into words\u001b[39;00m\n\u001b[1;32m----> 9\u001b[0m         words \u001b[39m=\u001b[39m re\u001b[39m.\u001b[39msub(\u001b[39mr\u001b[39m\u001b[39m'\u001b[39m\u001b[39m[^a-zA-Z\u001b[39m\u001b[39m\\\u001b[39m\u001b[39ms]\u001b[39m\u001b[39m'\u001b[39m, \u001b[39m'\u001b[39m\u001b[39m'\u001b[39m, line)\u001b[39m.\u001b[39mlower()\u001b[39m.\u001b[39msplit()\n\u001b[0;32m     10\u001b[0m         \u001b[39mfor\u001b[39;00m word \u001b[39min\u001b[39;00m words:\n\u001b[0;32m     11\u001b[0m             \u001b[39mif\u001b[39;00m word \u001b[39min\u001b[39;00m word_count:\n",
      "\u001b[1;31mNameError\u001b[0m: name 're' is not defined"
     ]
    }
   ],
   "source": [
    "# %%\n",
    "\n",
    "# cau 3\n",
    "def word_count(file_path):\n",
    "    word_count = {}\n",
    "    \n",
    "    with open(file_path, 'r') as file:\n",
    "        for line in file:\n",
    "            # Use regular expression to replace non-alphabet characters with space and split the line into words\n",
    "            words = re.sub(r'[^a-zA-Z\\s]', '', line).lower().split()\n",
    "            for word in words:\n",
    "                if word in word_count:\n",
    "                    word_count[word] += 1\n",
    "                else:\n",
    "                    word_count[word] = 1\n",
    "\n",
    "    # Sort the dictionary by keys (words) alphabetically\n",
    "    sorted_word_count = dict(sorted(word_count.items()))\n",
    "\n",
    "    return sorted_word_count\n",
    "\n",
    "file_path = 'P1_data.txt'\n",
    "print(word_count(file_path))"
   ]
  },
  {
   "cell_type": "code",
   "execution_count": null,
   "id": "e3851c6c-5ccc-49be-ad20-7d0b39bac1b0",
   "metadata": {},
   "outputs": [],
   "source": [
    "#%%\n",
    "\n",
    "import re"
   ]
  },
  {
   "cell_type": "code",
   "execution_count": null,
   "id": "77470d9c-09ff-4eec-ac87-49b9149f54ee",
   "metadata": {},
   "outputs": [
    {
     "name": "stdout",
     "output_type": "stream",
     "text": [
      "{'a': 7, 'again': 1, 'and': 1, 'are': 1, 'at': 1, 'be': 1, 'become': 2, 'bricks': 1, 'busy': 1, 'but': 1, 'came': 1, 'can': 3, 'cannot': 1, 'change': 1, 'comes': 2, 'conquers': 1, 'courage': 1, 'day': 1, 'different': 1, 'employed': 1, 'enough': 1, 'everything': 1, 'firm': 1, 'for': 3, 'foundation': 1, 'from': 1, 'get': 2, 'have': 1, 'he': 1, 'help': 1, 'him': 1, 'himself': 1, 'his': 2, 'if': 1, 'in': 4, 'is': 3, 'it': 2, 'just': 2, 'kind': 1, 'lay': 1, 'life': 2, 'looking': 1, 'majority': 1, 'makes': 1, 'man': 6, 'mightiest': 1, 'mistakes': 1, 'morning': 1, 'not': 1, 'of': 4, 'one': 4, 'opportunity': 1, 'other': 1, 'others': 1, 'people': 1, 'positive': 1, 'problems': 1, 'profit': 1, 'rather': 1, 'ready': 1, 'secret': 1, 'small': 1, 'solve': 1, 'success': 3, 'successful': 2, 'the': 5, 'them': 1, 'they': 1, 'thinking': 1, 'those': 1, 'thought': 1, 'thrown': 1, 'to': 3, 'too': 1, 'try': 2, 'up': 1, 'usually': 1, 'value': 1, 'want': 2, 'warrior': 1, 'way': 1, 'we': 3, 'what': 1, 'when': 2, 'who': 3, 'whole': 1, 'will': 2, 'with': 4, 'you': 3, 'your': 1}\n"
     ]
    }
   ],
   "source": [
    "# %%\n",
    "\n",
    "# cau 3\n",
    "def word_count(file_path):\n",
    "    word_count = {}\n",
    "    \n",
    "    with open(file_path, 'r') as file:\n",
    "        for line in file:\n",
    "            # Use regular expression to replace non-alphabet characters with space and split the line into words\n",
    "            words = re.sub(r'[^a-zA-Z\\s]', '', line).lower().split()\n",
    "            for word in words:\n",
    "                if word in word_count:\n",
    "                    word_count[word] += 1\n",
    "                else:\n",
    "                    word_count[word] = 1\n",
    "\n",
    "    # Sort the dictionary by keys (words) alphabetically\n",
    "    sorted_word_count = dict(sorted(word_count.items()))\n",
    "\n",
    "    return sorted_word_count\n",
    "\n",
    "file_path = 'P1_data.txt'\n",
    "print(word_count(file_path))"
   ]
  },
  {
   "cell_type": "code",
   "execution_count": null,
   "id": "f0954c4f-af5c-487b-9469-c2680a26a1f7",
   "metadata": {},
   "outputs": [
    {
     "ename": "TypeError",
     "evalue": "'int' object is not callable",
     "output_type": "error",
     "traceback": [
      "\u001b[1;31m---------------------------------------------------------------------------\u001b[0m",
      "\u001b[1;31mTypeError\u001b[0m                                 Traceback (most recent call last)",
      "File \u001b[1;32mc:\\Users\\ADMIN\\Desktop\\AI VIETNAM\\AIO-Exercise\\Exercise_Week2.py:27\u001b[0m\n\u001b[0;32m     25\u001b[0m source \u001b[39m=\u001b[39m \u001b[39m'\u001b[39m\u001b[39myu\u001b[39m\u001b[39m'\u001b[39m\n\u001b[0;32m     26\u001b[0m target \u001b[39m=\u001b[39m \u001b[39m'\u001b[39m\u001b[39myou\u001b[39m\u001b[39m'\u001b[39m\n\u001b[1;32m---> 27\u001b[0m \u001b[39mprint\u001b[39m(\u001b[39mf\u001b[39m\u001b[39m\"\u001b[39m\u001b[39mKhoảng cách Levenshtein giữa \u001b[39m\u001b[39m'\u001b[39m\u001b[39m{\u001b[39;00msource\u001b[39m}\u001b[39;00m\u001b[39m'\u001b[39m\u001b[39m và \u001b[39m\u001b[39m'\u001b[39m\u001b[39m{\u001b[39;00mtarget\u001b[39m}\u001b[39;00m\u001b[39m'\u001b[39m\u001b[39m là: \u001b[39m\u001b[39m{\u001b[39;00mlevenshtein_distance(source,\u001b[39m \u001b[39;49mtarget)\u001b[39m}\u001b[39;00m\u001b[39m\"\u001b[39m)\n",
      "File \u001b[1;32mc:\\Users\\ADMIN\\Desktop\\AI VIETNAM\\AIO-Exercise\\Exercise_Week2.py:19\u001b[0m\n\u001b[0;32m     17\u001b[0m         \u001b[39melse\u001b[39;00m:\n\u001b[0;32m     18\u001b[0m             cost \u001b[39m=\u001b[39m \u001b[39m1\u001b[39m\n\u001b[1;32m---> 19\u001b[0m         distance_matrix[row][col] \u001b[39m=\u001b[39m \u001b[39mmin\u001b[39;49m(distance_matrix[row\u001b[39m-\u001b[39;49m\u001b[39m1\u001b[39;49m][col] \u001b[39m+\u001b[39;49m \u001b[39m1\u001b[39;49m,      \u001b[39m# Xóa\u001b[39;49;00m\n\u001b[0;32m     20\u001b[0m                                          distance_matrix[row][col\u001b[39m-\u001b[39;49m\u001b[39m1\u001b[39;49m] \u001b[39m+\u001b[39;49m \u001b[39m1\u001b[39;49m,      \u001b[39m# Thêm\u001b[39;49;00m\n\u001b[0;32m     21\u001b[0m                                          distance_matrix[row\u001b[39m-\u001b[39;49m\u001b[39m1\u001b[39;49m][col\u001b[39m-\u001b[39;49m\u001b[39m1\u001b[39;49m] \u001b[39m+\u001b[39;49m cost) \u001b[39m# Thay thế\u001b[39;00m\n\u001b[0;32m     23\u001b[0m \u001b[39mreturn\u001b[39;00m distance_matrix[\u001b[39m-\u001b[39m\u001b[39m1\u001b[39m][\u001b[39m-\u001b[39m\u001b[39m1\u001b[39m]\n",
      "\u001b[1;31mTypeError\u001b[0m: 'int' object is not callable"
     ]
    }
   ],
   "source": [
    "# %%\n",
    "\n",
    "# cau 4\n",
    "def levenshtein_distance(source, target):\n",
    "    rows = len(source) + 1\n",
    "    cols = len(target) + 1\n",
    "    distance_matrix = [[0 for _ in range(cols)] for _ in range(rows)]\n",
    "\n",
    "    for i in range(1, rows):\n",
    "        distance_matrix[i][0] = i\n",
    "    for j in range(1, cols):\n",
    "        distance_matrix[0][j] = j\n",
    "\n",
    "    for col in range(1, cols):\n",
    "        for row in range(1, rows):\n",
    "            if source[row-1] == target[col-1]:\n",
    "                cost = 0\n",
    "            else:\n",
    "                cost = 1\n",
    "            distance_matrix[row][col] = min(distance_matrix[row-1][col] + 1,      # Xóa\n",
    "                                             distance_matrix[row][col-1] + 1,      # Thêm\n",
    "                                             distance_matrix[row-1][col-1] + cost) # Thay thế\n",
    "\n",
    "    return distance_matrix[-1][-1]\n",
    "\n",
    "source = 'yu'\n",
    "target = 'you'\n",
    "print(f\"Khoảng cách Levenshtein giữa '{source}' và '{target}' là: {levenshtein_distance(source, target)}\")"
   ]
  },
  {
   "cell_type": "code",
   "execution_count": null,
   "id": "d0669504-b23f-4d2a-8a6d-db76746081c2",
   "metadata": {},
   "outputs": [
    {
     "ename": "Exception",
     "evalue": "min is overwritten, resetting...",
     "output_type": "error",
     "traceback": [
      "\u001b[1;31m---------------------------------------------------------------------------\u001b[0m",
      "\u001b[1;31mException\u001b[0m                                 Traceback (most recent call last)",
      "File \u001b[1;32mc:\\Users\\ADMIN\\Desktop\\AI VIETNAM\\AIO-Exercise\\Exercise_Week2.py:35\u001b[0m\n\u001b[0;32m     33\u001b[0m source \u001b[39m=\u001b[39m \u001b[39m'\u001b[39m\u001b[39myu\u001b[39m\u001b[39m'\u001b[39m\n\u001b[0;32m     34\u001b[0m target \u001b[39m=\u001b[39m \u001b[39m'\u001b[39m\u001b[39myou\u001b[39m\u001b[39m'\u001b[39m\n\u001b[1;32m---> 35\u001b[0m \u001b[39mprint\u001b[39m(\u001b[39mf\u001b[39m\u001b[39m\"\u001b[39m\u001b[39mLevenshtein distance between \u001b[39m\u001b[39m'\u001b[39m\u001b[39m{\u001b[39;00msource\u001b[39m}\u001b[39;00m\u001b[39m'\u001b[39m\u001b[39m and \u001b[39m\u001b[39m'\u001b[39m\u001b[39m{\u001b[39;00mtarget\u001b[39m}\u001b[39;00m\u001b[39m'\u001b[39m\u001b[39m is: \u001b[39m\u001b[39m{\u001b[39;00mlevenshtein_distance(source,\u001b[39m \u001b[39;49mtarget)\u001b[39m}\u001b[39;00m\u001b[39m\"\u001b[39m)\n",
      "File \u001b[1;32mc:\\Users\\ADMIN\\Desktop\\AI VIETNAM\\AIO-Exercise\\Exercise_Week2.py:7\u001b[0m\n\u001b[0;32m      5\u001b[0m \u001b[39mtry\u001b[39;00m:\n\u001b[0;32m      6\u001b[0m     \u001b[39mif\u001b[39;00m \u001b[39mnot\u001b[39;00m \u001b[39mcallable\u001b[39m(\u001b[39mmin\u001b[39m):\n\u001b[1;32m----> 7\u001b[0m         \u001b[39mraise\u001b[39;00m \u001b[39mException\u001b[39;00m(\u001b[39m\"\u001b[39m\u001b[39mmin is overwritten, resetting...\u001b[39m\u001b[39m\"\u001b[39m)\n\u001b[0;32m      8\u001b[0m \u001b[39mexcept\u001b[39;00m \u001b[39mNameError\u001b[39;00m:\n\u001b[0;32m      9\u001b[0m     \u001b[39mpass\u001b[39;00m  \u001b[39m# 'min' is fine\u001b[39;00m\n",
      "\u001b[1;31mException\u001b[0m: min is overwritten, resetting..."
     ]
    }
   ],
   "source": [
    "# %%\n",
    "\n",
    "# cau 4\n",
    "def levenshtein_distance(source, target):\n",
    "    # Ensure that 'min' is the built-in function\n",
    "    try:\n",
    "        if not callable(min):\n",
    "            raise Exception(\"min is overwritten, resetting...\")\n",
    "    except NameError:\n",
    "        pass  # 'min' is fine\n",
    "\n",
    "    rows = len(source) + 1\n",
    "    cols = len(target) + 1\n",
    "    distance_matrix = [[0 for _ in range(cols)] for _ in range(rows)]\n",
    "\n",
    "    for i in range(1, rows):\n",
    "        distance_matrix[i][0] = i\n",
    "    for j in range(1, cols):\n",
    "        distance_matrix[0][j] = j\n",
    "\n",
    "    for col in range(1, cols):\n",
    "        for row in range(1, rows):\n",
    "            if source[row - 1] == target[col - 1]:\n",
    "                cost = 0\n",
    "            else:\n",
    "                cost = 1\n",
    "            distance_matrix[row][col] = min(distance_matrix[row - 1][col] + 1,      # Deletion\n",
    "                                            distance_matrix[row][col - 1] + 1,      # Insertion\n",
    "                                            distance_matrix[row - 1][col - 1] + cost) # Substitution\n",
    "\n",
    "    return distance_matrix[-1][-1]\n",
    "\n",
    "# Example usage\n",
    "source = 'yu'\n",
    "target = 'you'\n",
    "print(f\"Levenshtein distance between '{source}' and '{target}' is: {levenshtein_distance(source, target)}\")"
   ]
  },
  {
   "cell_type": "code",
   "execution_count": null,
   "id": "78322b5e-9a1f-425f-a753-0b9921b59d38",
   "metadata": {},
   "outputs": [
    {
     "ename": "TypeError",
     "evalue": "'int' object is not callable",
     "output_type": "error",
     "traceback": [
      "\u001b[1;31m---------------------------------------------------------------------------\u001b[0m",
      "\u001b[1;31mTypeError\u001b[0m                                 Traceback (most recent call last)",
      "File \u001b[1;32mc:\\Users\\ADMIN\\Desktop\\AI VIETNAM\\AIO-Exercise\\Exercise_Week2.py:33\u001b[0m\n\u001b[0;32m     31\u001b[0m source \u001b[39m=\u001b[39m \u001b[39m'\u001b[39m\u001b[39myu\u001b[39m\u001b[39m'\u001b[39m\n\u001b[0;32m     32\u001b[0m target \u001b[39m=\u001b[39m \u001b[39m'\u001b[39m\u001b[39myou\u001b[39m\u001b[39m'\u001b[39m\n\u001b[1;32m---> 33\u001b[0m distance \u001b[39m=\u001b[39m levenshtein_distance(source, target)\n\u001b[0;32m     34\u001b[0m \u001b[39mprint\u001b[39m(\u001b[39mf\u001b[39m\u001b[39m\"\u001b[39m\u001b[39mThe Levenshtein distance between \u001b[39m\u001b[39m'\u001b[39m\u001b[39m{\u001b[39;00msource\u001b[39m}\u001b[39;00m\u001b[39m'\u001b[39m\u001b[39m and \u001b[39m\u001b[39m'\u001b[39m\u001b[39m{\u001b[39;00mtarget\u001b[39m}\u001b[39;00m\u001b[39m'\u001b[39m\u001b[39m is: \u001b[39m\u001b[39m{\u001b[39;00mdistance\u001b[39m}\u001b[39;00m\u001b[39m\"\u001b[39m)\n",
      "File \u001b[1;32mc:\\Users\\ADMIN\\Desktop\\AI VIETNAM\\AIO-Exercise\\Exercise_Week2.py:22\u001b[0m\n\u001b[0;32m     20\u001b[0m         \u001b[39melse\u001b[39;00m:\n\u001b[0;32m     21\u001b[0m             cost \u001b[39m=\u001b[39m \u001b[39m1\u001b[39m\n\u001b[1;32m---> 22\u001b[0m         D[i][j] \u001b[39m=\u001b[39m \u001b[39mmin\u001b[39;49m(\n\u001b[0;32m     23\u001b[0m             D[i\u001b[39m-\u001b[39;49m\u001b[39m1\u001b[39;49m][j] \u001b[39m+\u001b[39;49m \u001b[39m1\u001b[39;49m,  \u001b[39m# Deletion\u001b[39;49;00m\n\u001b[0;32m     24\u001b[0m             D[i][j\u001b[39m-\u001b[39;49m\u001b[39m1\u001b[39;49m] \u001b[39m+\u001b[39;49m \u001b[39m1\u001b[39;49m,  \u001b[39m# Insertion\u001b[39;49;00m\n\u001b[0;32m     25\u001b[0m             D[i\u001b[39m-\u001b[39;49m\u001b[39m1\u001b[39;49m][j\u001b[39m-\u001b[39;49m\u001b[39m1\u001b[39;49m] \u001b[39m+\u001b[39;49m cost  \u001b[39m# Substitution\u001b[39;49;00m\n\u001b[0;32m     26\u001b[0m         )\n\u001b[0;32m     28\u001b[0m \u001b[39mreturn\u001b[39;00m D[\u001b[39m-\u001b[39m\u001b[39m1\u001b[39m][\u001b[39m-\u001b[39m\u001b[39m1\u001b[39m]\n",
      "\u001b[1;31mTypeError\u001b[0m: 'int' object is not callable"
     ]
    }
   ],
   "source": [
    "# %%\n",
    "\n",
    "# cau 4\n",
    "def levenshtein_distance(source, target):\n",
    "    # Create a matrix of size (len(source)+1) x (len(target)+1)\n",
    "    rows = len(source) + 1\n",
    "    cols = len(target) + 1\n",
    "    D = [[0] * cols for _ in range(rows)]\n",
    "\n",
    "    # Initialize the first row and column of the matrix\n",
    "    for i in range(1, rows):\n",
    "        D[i][0] = i\n",
    "    for j in range(1, cols):\n",
    "        D[0][j] = j\n",
    "\n",
    "    # Fill in the rest of the matrix\n",
    "    for i in range(1, rows):\n",
    "        for j in range(1, cols):\n",
    "            if source[i-1] == target[j-1]:\n",
    "                cost = 0\n",
    "            else:\n",
    "                cost = 1\n",
    "            D[i][j] = min(\n",
    "                D[i-1][j] + 1,  # Deletion\n",
    "                D[i][j-1] + 1,  # Insertion\n",
    "                D[i-1][j-1] + cost  # Substitution\n",
    "            )\n",
    "\n",
    "    return D[-1][-1]\n",
    "\n",
    "# Example use\n",
    "source = 'yu'\n",
    "target = 'you'\n",
    "distance = levenshtein_distance(source, target)\n",
    "print(f\"The Levenshtein distance between '{source}' and '{target}' is: {distance}\")"
   ]
  },
  {
   "cell_type": "code",
   "execution_count": null,
   "id": "92b546b4-a653-4a85-a75e-fa6b0917f90c",
   "metadata": {},
   "outputs": [
    {
     "name": "stdout",
     "output_type": "stream",
     "text": [
      "The Levenshtein distance between 'yu' and 'you' is: 1\n"
     ]
    }
   ],
   "source": [
    "# %%\n",
    "\n",
    "# cau 4\n",
    "min = __builtins__.min\n",
    "\n",
    "def levenshtein_distance(source, target):\n",
    "    # Create a matrix of size (len(source)+1) x (len(target)+1)\n",
    "    rows = len(source) + 1\n",
    "    cols = len(target) + 1\n",
    "    D = [[0] * cols for _ in range(rows)]\n",
    "\n",
    "    # Initialize the first row and column of the matrix\n",
    "    for i in range(1, rows):\n",
    "        D[i][0] = i\n",
    "    for j in range(1, cols):\n",
    "        D[0][j] = j\n",
    "\n",
    "    # Fill in the rest of the matrix\n",
    "    for i in range(1, rows):\n",
    "        for j in range(1, cols):\n",
    "            if source[i-1] == target[j-1]:\n",
    "                cost = 0\n",
    "            else:\n",
    "                cost = 1\n",
    "            D[i][j] = min(\n",
    "                D[i-1][j] + 1,  # Deletion\n",
    "                D[i][j-1] + 1,  # Insertion\n",
    "                D[i-1][j-1] + cost  # Substitution\n",
    "            )\n",
    "\n",
    "    return D[-1][-1]\n",
    "\n",
    "# Example use\n",
    "source = 'yu'\n",
    "target = 'you'\n",
    "distance = levenshtein_distance(source, target)\n",
    "print(f\"The Levenshtein distance between '{source}' and '{target}' is: {distance}\")"
   ]
  },
  {
   "cell_type": "code",
   "execution_count": null,
   "id": "75413631-fbb5-4063-9fea-1808494da487",
   "metadata": {},
   "outputs": [
    {
     "ename": "TypeError",
     "evalue": "'int' object is not callable",
     "output_type": "error",
     "traceback": [
      "\u001b[1;31m---------------------------------------------------------------------------\u001b[0m",
      "\u001b[1;31mTypeError\u001b[0m                                 Traceback (most recent call last)",
      "File \u001b[1;32mc:\\Users\\ADMIN\\Desktop\\AI VIETNAM\\AIO-Exercise\\Exercise_Week2.py:13\u001b[0m\n\u001b[0;32m     11\u001b[0m num_list \u001b[39m=\u001b[39m [\u001b[39m3\u001b[39m, \u001b[39m4\u001b[39m, \u001b[39m5\u001b[39m, \u001b[39m1\u001b[39m, \u001b[39m-\u001b[39m\u001b[39m44\u001b[39m, \u001b[39m5\u001b[39m, \u001b[39m10\u001b[39m, \u001b[39m12\u001b[39m, \u001b[39m33\u001b[39m, \u001b[39m1\u001b[39m]\n\u001b[0;32m     12\u001b[0m k \u001b[39m=\u001b[39m \u001b[39m3\u001b[39m\n\u001b[1;32m---> 13\u001b[0m \u001b[39mprint\u001b[39m(max_kernel(num_list, k))\n",
      "File \u001b[1;32mc:\\Users\\ADMIN\\Desktop\\AI VIETNAM\\AIO-Exercise\\Exercise_Week2.py:7\u001b[0m\n\u001b[0;32m      5\u001b[0m result \u001b[39m=\u001b[39m []\n\u001b[0;32m      6\u001b[0m \u001b[39mfor\u001b[39;00m i \u001b[39min\u001b[39;00m \u001b[39mrange\u001b[39m(\u001b[39mlen\u001b[39m(num_list) \u001b[39m-\u001b[39m k \u001b[39m+\u001b[39m \u001b[39m1\u001b[39m):\n\u001b[1;32m----> 7\u001b[0m     max_num \u001b[39m=\u001b[39m \u001b[39mmax\u001b[39;49m(num_list[i:i\u001b[39m+\u001b[39;49mk])\n\u001b[0;32m      8\u001b[0m     result\u001b[39m.\u001b[39mappend(max_num)\n\u001b[0;32m      9\u001b[0m \u001b[39mreturn\u001b[39;00m result\n",
      "\u001b[1;31mTypeError\u001b[0m: 'int' object is not callable"
     ]
    }
   ],
   "source": [
    "# %%\n",
    "\n",
    "# Trac nghiem\n",
    "# cau 1\n",
    "def max_kernel(num_list, k):\n",
    "    result = []\n",
    "    for i in range(len(num_list) - k + 1):\n",
    "        max_num = max(num_list[i:i+k])\n",
    "        result.append(max_num)\n",
    "    return result\n",
    "\n",
    "num_list = [3, 4, 5, 1, -44, 5, 10, 12, 33, 1]\n",
    "k = 3\n",
    "print(max_kernel(num_list, k))"
   ]
  },
  {
   "cell_type": "code",
   "execution_count": null,
   "id": "fe414e23-cd54-4d44-a0d9-35957bd3b979",
   "metadata": {},
   "outputs": [
    {
     "name": "stdout",
     "output_type": "stream",
     "text": [
      "[5, 5, 5, 5, 10, 12, 33, 33]\n"
     ]
    }
   ],
   "source": [
    "# %%\n",
    "\n",
    "# Trac nghiem\n",
    "# cau 1\n",
    "max = __builtins__.max\n",
    "\n",
    "def max_kernel(num_list, k):\n",
    "    result = []\n",
    "    for i in range(len(num_list) - k + 1):\n",
    "        max_num = max(num_list[i:i+k])\n",
    "        result.append(max_num)\n",
    "    return result\n",
    "\n",
    "num_list = [3, 4, 5, 1, -44, 5, 10, 12, 33, 1]\n",
    "k = 3\n",
    "print(max_kernel(num_list, k))"
   ]
  },
  {
   "cell_type": "code",
   "execution_count": null,
   "id": "cf97db95-edba-4575-a316-407b835c9e22",
   "metadata": {},
   "outputs": [
    {
     "name": "stdout",
     "output_type": "stream",
     "text": [
      "{'s': 2, 'm': 1, 'i': 1, 'l': 1, 'e': 1}\n"
     ]
    }
   ],
   "source": [
    "# %%\n",
    "\n",
    "# cau 2\n",
    "def character_count(word):\n",
    "    character_statistic = {}\n",
    "    word = word.strip()  \n",
    "    for char in word:\n",
    "        if char in character_statistic:\n",
    "            character_statistic[char] += 1\n",
    "        else:\n",
    "            character_statistic[char] = 1\n",
    "    return character_statistic\n",
    "\n",
    "print(character_count('smiles'))"
   ]
  },
  {
   "cell_type": "code",
   "execution_count": null,
   "id": "4339b64d-25c7-46bc-b00a-489beb38c0c9",
   "metadata": {},
   "outputs": [
    {
     "name": "stdout",
     "output_type": "stream",
     "text": [
      "0\n"
     ]
    }
   ],
   "source": [
    "# %%\n",
    "\n",
    "# cau 3\n",
    "def count_word(file_path):\n",
    "    counter = {}\n",
    "    content = file_path\n",
    "    content = content.lower().replace('.', '').replace(',', '').replace('\\'', '').split()\n",
    "    for word in content:\n",
    "        if word in counter:\n",
    "            counter[word] += 1\n",
    "        else:\n",
    "            counter[word] = 1\n",
    "    return counter\n",
    "\n",
    "file_path = 'P1_data.txt'\n",
    "result = count_word(file_path)\n",
    "print(result.get('man', 0))"
   ]
  },
  {
   "cell_type": "code",
   "execution_count": null,
   "id": "8d93c715-c8d4-4fa9-8f26-e22725ba265f",
   "metadata": {},
   "outputs": [
    {
     "ename": "KeyError",
     "evalue": "'who'",
     "output_type": "error",
     "traceback": [
      "\u001b[1;31m---------------------------------------------------------------------------\u001b[0m",
      "\u001b[1;31mKeyError\u001b[0m                                  Traceback (most recent call last)",
      "File \u001b[1;32mc:\\Users\\ADMIN\\Desktop\\AI VIETNAM\\AIO-Exercise\\Exercise_Week2.py:16\u001b[0m\n\u001b[0;32m     14\u001b[0m file_path \u001b[39m=\u001b[39m \u001b[39m'\u001b[39m\u001b[39mP1_data.txt\u001b[39m\u001b[39m'\u001b[39m\n\u001b[0;32m     15\u001b[0m result \u001b[39m=\u001b[39m count_word(file_path)\n\u001b[1;32m---> 16\u001b[0m \u001b[39massert\u001b[39;00m result[\u001b[39m'\u001b[39;49m\u001b[39mwho\u001b[39;49m\u001b[39m'\u001b[39;49m] \u001b[39m==\u001b[39m \u001b[39m3\u001b[39m\n\u001b[0;32m     17\u001b[0m \u001b[39mprint\u001b[39m(result\u001b[39m.\u001b[39mget(\u001b[39m'\u001b[39m\u001b[39mman\u001b[39m\u001b[39m'\u001b[39m, \u001b[39m0\u001b[39m))\n",
      "\u001b[1;31mKeyError\u001b[0m: 'who'"
     ]
    }
   ],
   "source": [
    "# %%\n",
    "\n",
    "# cau 3\n",
    "def count_word(file_path):\n",
    "    counter = {}\n",
    "    content = file_path\n",
    "    content = content.lower().replace('.', '').replace(',', '').replace('\\'', '').split()\n",
    "    for word in content:\n",
    "        if word in counter:\n",
    "            counter[word] += 1\n",
    "        else:\n",
    "            counter[word] = 1\n",
    "    return counter\n",
    "\n",
    "file_path = 'P1_data.txt'\n",
    "result = count_word(file_path)\n",
    "assert result['who'] == 3\n",
    "print(result.get('man', 0))"
   ]
  },
  {
   "cell_type": "code",
   "execution_count": null,
   "id": "7655625f-18b7-472a-bd69-8077fcc460d5",
   "metadata": {},
   "outputs": [
    {
     "name": "stdout",
     "output_type": "stream",
     "text": [
      "{'a': 7, 'again': 1, 'and': 1, 'are': 1, 'at': 1, 'be': 1, 'become': 2, 'bricks': 1, 'busy': 1, 'but': 1, 'came': 1, 'can': 3, 'cannot': 1, 'change': 1, 'comes': 2, 'conquers': 1, 'courage': 1, 'day': 1, 'different': 1, 'employed': 1, 'enough': 1, 'everything': 1, 'firm': 1, 'for': 3, 'foundation': 1, 'from': 1, 'get': 2, 'have': 1, 'he': 1, 'help': 1, 'him': 1, 'himself': 1, 'his': 2, 'if': 1, 'in': 4, 'is': 3, 'it': 2, 'just': 2, 'kind': 1, 'lay': 1, 'life': 2, 'looking': 1, 'majority': 1, 'makes': 1, 'man': 6, 'mightiest': 1, 'mistakes': 1, 'morning': 1, 'not': 1, 'of': 4, 'one': 4, 'opportunity': 1, 'other': 1, 'others': 1, 'people': 1, 'positive': 1, 'problems': 1, 'profit': 1, 'rather': 1, 'ready': 1, 'secret': 1, 'small': 1, 'solve': 1, 'success': 3, 'successful': 2, 'the': 5, 'them': 1, 'they': 1, 'thinking': 1, 'those': 1, 'thought': 1, 'thrown': 1, 'to': 3, 'too': 1, 'try': 2, 'up': 1, 'usually': 1, 'value': 1, 'want': 2, 'warrior': 1, 'way': 1, 'we': 3, 'what': 1, 'when': 2, 'who': 3, 'whole': 1, 'will': 2, 'with': 4, 'you': 3, 'your': 1}\n"
     ]
    }
   ],
   "source": [
    "# %%\n",
    "\n",
    "# cau 3\n",
    "def count_word(file_path):\n",
    "    word_count = {}\n",
    "    \n",
    "    with open(file_path, 'r') as file:\n",
    "        for line in file:\n",
    "            words = re.sub(r'[^a-zA-Z\\s]', '', line).lower().split()\n",
    "            for word in words:\n",
    "                if word in word_count:\n",
    "                    word_count[word] += 1\n",
    "                else:\n",
    "                    word_count[word] = 1\n",
    "\n",
    "    # Sort the dictionary \n",
    "    sorted_word_count = dict(sorted(word_count.items()))\n",
    "\n",
    "    return sorted_word_count\n",
    "\n",
    "file_path = 'P1_data.txt'\n",
    "print(count_word(file_path))"
   ]
  },
  {
   "cell_type": "code",
   "execution_count": null,
   "id": "a05d048c-2a53-4cc2-a6b3-03ba0a397aa2",
   "metadata": {},
   "outputs": [
    {
     "name": "stdout",
     "output_type": "stream",
     "text": [
      "6\n"
     ]
    }
   ],
   "source": [
    "# %%\n",
    "\n",
    "# cau 3\n",
    "result = count_word(file_path)\n",
    "assert result['who'] == 3\n",
    "print(result.get('man', 0))"
   ]
  },
  {
   "cell_type": "code",
   "execution_count": null,
   "id": "eb2906a6-26ec-4190-bcbe-3573eb818204",
   "metadata": {},
   "outputs": [
    {
     "name": "stdout",
     "output_type": "stream",
     "text": [
      "3\n"
     ]
    }
   ],
   "source": [
    "# %%\n",
    "\n",
    "# cau 4\n",
    "def levenshtein_distance(token1, token2):\n",
    "    # Loại bỏ khoảng trắng ở đầu và cuối chuỗi\n",
    "    token1 = token1.strip()\n",
    "    token2 = token2.strip()\n",
    "    \n",
    "    # Khởi tạo ma trận với kích thước (len(token1)+1) x (len(token2)+1)\n",
    "    rows = len(token1) + 1\n",
    "    cols = len(token2) + 1\n",
    "    distance_matrix = [[0 for _ in range(cols)] for _ in range(rows)]\n",
    "\n",
    "    # Khởi tạo hàng đầu tiên và cột đầu tiên của ma trận\n",
    "    for i in range(1, rows):\n",
    "        distance_matrix[i][0] = i\n",
    "    for j in range(1, cols):\n",
    "        distance_matrix[0][j] = j\n",
    "\n",
    "    # Tính toán khoảng cách Levenshtein\n",
    "    for col in range(1, cols):\n",
    "        for row in range(1, rows):\n",
    "            if token1[row-1] == token2[col-1]:\n",
    "                cost = 0\n",
    "            else:\n",
    "                cost = 1\n",
    "            distance_matrix[row][col] = min(distance_matrix[row-1][col] + 1,      # Xóa\n",
    "                                             distance_matrix[row][col-1] + 1,      # Thêm\n",
    "                                             distance_matrix[row-1][col-1] + cost) # Thay thế\n",
    "\n",
    "    # Khoảng cách Levenshtein nằm ở góc dưới cùng bên phải của ma trận\n",
    "    distance = distance_matrix[-1][-1]\n",
    "    return distance\n",
    "\n",
    "# Ví dụ sử dụng\n",
    "print(levenshtein_distance(\"hola\", \"hello\"))"
   ]
  },
  {
   "cell_type": "code",
   "execution_count": null,
   "id": "83c8ae22-0fdf-4ccd-9088-5fb03b32d22f",
   "metadata": {},
   "outputs": [
    {
     "name": "stdout",
     "output_type": "stream",
     "text": [
      "3\n"
     ]
    }
   ],
   "source": [
    "# %%\n",
    "\n",
    "# cau 4\n",
    "assert levenshtein_distance (\"hi\", \" hello \") == 4.0\n",
    "print(levenshtein_distance(\"hola\", \"hello\"))"
   ]
  },
  {
   "cell_type": "code",
   "execution_count": null,
   "id": "fa181fcd-d896-4bf9-aba0-feba2d759ed5",
   "metadata": {},
   "outputs": [],
   "source": [
    "# %%\n",
    "\n",
    "# cau 4\n",
    "assert levenshtein_distance (\"hi\", \" hello \") == 4.0\n",
    "# print(levenshtein_distance(\"hola\", \"hello\"))"
   ]
  },
  {
   "cell_type": "code",
   "execution_count": null,
   "id": "7fe594c3-c557-4cb6-a4c9-2c5fc22c24df",
   "metadata": {},
   "outputs": [
    {
     "name": "stdout",
     "output_type": "stream",
     "text": [
      "3\n"
     ]
    }
   ],
   "source": [
    "# %%\n",
    "\n",
    "# cau 4\n",
    "assert levenshtein_distance (\"hi\", \" hello \") == 4.0\n",
    "print(levenshtein_distance(\"hola\", \"hello\"))"
   ]
  },
  {
   "cell_type": "code",
   "execution_count": null,
   "id": "c9802ffd-0225-4e10-8fd2-8654f5f60421",
   "metadata": {},
   "outputs": [
    {
     "name": "stdout",
     "output_type": "stream",
     "text": [
      "False\n"
     ]
    }
   ],
   "source": [
    "# %%\n",
    "\n",
    "# cau 5\n",
    "def check_the_number(N):\n",
    "    list_of_numbers = []\n",
    "    result = \"\"\n",
    "    for i in range(1, 5):\n",
    "        list_of_numbers.append(i)\n",
    "    if N in list_of_numbers:\n",
    "        result = \"True\"\n",
    "    if N not in list_of_numbers:\n",
    "        result = \"False\"\n",
    "    return result\n",
    "\n",
    "N = 7\n",
    "assert check_the_number(N) == 'False'\n",
    "results = check_the_number(N)\n",
    "print(results)"
   ]
  },
  {
   "cell_type": "code",
   "execution_count": null,
   "id": "d383e4ae-2654-4296-bfa8-e71295a16698",
   "metadata": {},
   "outputs": [
    {
     "name": "stdout",
     "output_type": "stream",
     "text": [
      "True\n"
     ]
    }
   ],
   "source": [
    "# %%\n",
    "\n",
    "# cau 5\n",
    "def check_the_number(N):\n",
    "    list_of_numbers = []\n",
    "    result = \"\"\n",
    "    for i in range(1, 5):\n",
    "        list_of_numbers.append(i)\n",
    "    if N in list_of_numbers:\n",
    "        result = \"True\"\n",
    "    if N not in list_of_numbers:\n",
    "        result = \"False\"\n",
    "    return result\n",
    "\n",
    "N = 7\n",
    "assert check_the_number(N) == 'False'\n",
    "N = 2\n",
    "results = check_the_number(N)\n",
    "print(results)"
   ]
  },
  {
   "cell_type": "code",
   "execution_count": null,
   "id": "428336af-5575-4a35-a8f6-c33817e5f418",
   "metadata": {},
   "outputs": [
    {
     "name": "stdout",
     "output_type": "stream",
     "text": [
      "[2, 2, 2, 1, 1]\n"
     ]
    }
   ],
   "source": [
    "# %%\n",
    "\n",
    "# cau 6\n",
    "def my_function(data, max, min):\n",
    "    result = []\n",
    "    for i in data:\n",
    "        if i < min:\n",
    "            result.append(min)\n",
    "        elif i > max:\n",
    "            result.append(max)\n",
    "        else:\n",
    "            result.append(i)\n",
    "    return result\n",
    "\n",
    "my_list = [10, 2, 5, 0, 1]\n",
    "max = 2\n",
    "min = 1\n",
    "print(my_function(max=max, min=min, data=my_list))"
   ]
  },
  {
   "cell_type": "code",
   "execution_count": null,
   "id": "e0a3fda4-96fb-440a-b30e-6f5c1f54c0b7",
   "metadata": {},
   "outputs": [
    {
     "name": "stdout",
     "output_type": "stream",
     "text": [
      "[1, 2, 3, 4, 0, 0]\n"
     ]
    }
   ],
   "source": [
    "# %%\n",
    "\n",
    "# cau 7\n",
    "def my_function(x, y):\n",
    "    x.extend(y)\n",
    "    return x\n",
    "\n",
    "list_num1 = [1, 2]\n",
    "list_num2 = [3, 4]\n",
    "list_num3 = [0, 0]\n",
    "\n",
    "print(my_function(list_num1, my_function(list_num2, list_num3)))"
   ]
  },
  {
   "cell_type": "code",
   "execution_count": null,
   "id": "6379eb14-8a9f-4059-a0e7-6966d4296c34",
   "metadata": {},
   "outputs": [
    {
     "name": "stdout",
     "output_type": "stream",
     "text": [
      "[1, 2, 3, 4, 0, 0]\n"
     ]
    }
   ],
   "source": [
    "# %%\n",
    "\n",
    "# cau 7\n",
    "def my_function(x, y):\n",
    "    x.extend(y)\n",
    "    return x\n",
    "\n",
    "list_num1 = ['a', 2 , 5]\n",
    "list_num2 = [1 , 1]\n",
    "list_num3 = [0 , 0]\n",
    "\n",
    "assert my_function ( list_num1 , my_function ( list_num2 , list_num3 ) ) == ['a', 2 , 5 , 1 , 1 , 0 , 0]\n",
    "\n",
    "list_num1 = [1, 2]\n",
    "list_num2 = [3, 4]\n",
    "list_num3 = [0, 0]\n",
    "\n",
    "print(my_function(list_num1, my_function(list_num2, list_num3)))"
   ]
  },
  {
   "cell_type": "code",
   "execution_count": null,
   "id": "e9603757-f5d5-43d4-8241-fc6e82c2602b",
   "metadata": {},
   "outputs": [
    {
     "ename": "TypeError",
     "evalue": "'int' object is not callable",
     "output_type": "error",
     "traceback": [
      "\u001b[1;31m---------------------------------------------------------------------------\u001b[0m",
      "\u001b[1;31mTypeError\u001b[0m                                 Traceback (most recent call last)",
      "File \u001b[1;32mc:\\Users\\ADMIN\\Desktop\\AI VIETNAM\\AIO-Exercise\\Exercise_Week2.py:7\u001b[0m\n\u001b[0;32m      4\u001b[0m     \u001b[39mreturn\u001b[39;00m \u001b[39mmin\u001b[39m(n)\n\u001b[0;32m      6\u001b[0m my_list \u001b[39m=\u001b[39m [\u001b[39m1\u001b[39m , \u001b[39m22\u001b[39m , \u001b[39m93\u001b[39m , \u001b[39m-\u001b[39m\u001b[39m100\u001b[39m]\n\u001b[1;32m----> 7\u001b[0m \u001b[39massert\u001b[39;00m my_function ( my_list ) \u001b[39m==\u001b[39m \u001b[39m-\u001b[39m\u001b[39m100\u001b[39m\n\u001b[0;32m      8\u001b[0m my_list \u001b[39m=\u001b[39m [\u001b[39m1\u001b[39m, \u001b[39m2\u001b[39m, \u001b[39m3\u001b[39m, \u001b[39m-\u001b[39m\u001b[39m1\u001b[39m]\n\u001b[0;32m      9\u001b[0m \u001b[39mprint\u001b[39m(my_function(my_list))\n",
      "File \u001b[1;32mc:\\Users\\ADMIN\\Desktop\\AI VIETNAM\\AIO-Exercise\\Exercise_Week2.py:4\u001b[0m\n\u001b[0;32m      3\u001b[0m \u001b[39mdef\u001b[39;00m \u001b[39mmy_function\u001b[39m(n):\n\u001b[1;32m----> 4\u001b[0m     \u001b[39mreturn\u001b[39;00m \u001b[39mmin\u001b[39;49m(n)\n",
      "\u001b[1;31mTypeError\u001b[0m: 'int' object is not callable"
     ]
    }
   ],
   "source": [
    "# %%\n",
    "\n",
    "# cau 8\n",
    "def my_function(n):\n",
    "    return min(n)\n",
    "\n",
    "my_list = [1 , 22 , 93 , -100]\n",
    "assert my_function ( my_list ) == -100\n",
    "my_list = [1, 2, 3, -1]\n",
    "print(my_function(my_list))"
   ]
  },
  {
   "cell_type": "code",
   "execution_count": null,
   "id": "aea23fa7-8a9d-466d-998a-52a6fec9cffb",
   "metadata": {},
   "outputs": [
    {
     "name": "stdout",
     "output_type": "stream",
     "text": [
      "-1\n"
     ]
    }
   ],
   "source": [
    "# %%\n",
    "\n",
    "# cau 8\n",
    "min = __builtins__.min\n",
    "\n",
    "def my_function(n):\n",
    "    return min(n)\n",
    "\n",
    "my_list = [1 , 22 , 93 , -100]\n",
    "assert my_function ( my_list ) == -100\n",
    "my_list = [1, 2, 3, -1]\n",
    "print(my_function(my_list))"
   ]
  },
  {
   "cell_type": "code",
   "execution_count": null,
   "id": "643f55e1-7832-49bd-810f-8d5c5ad62381",
   "metadata": {},
   "outputs": [
    {
     "name": "stdout",
     "output_type": "stream",
     "text": [
      "9\n"
     ]
    }
   ],
   "source": [
    "# %%\n",
    "\n",
    "# cau 9\n",
    "max = __builtins__.max\n",
    "\n",
    "def my_function(n):\n",
    "    # Your code here\n",
    "    return max(n)\n",
    "\n",
    "my_list = [1001 , 9 , 100 , 0]\n",
    "assert my_function ( my_list ) == 1001\n",
    "my_list = [1, 9, 9, 0]\n",
    "print(my_function(my_list))"
   ]
  },
  {
   "cell_type": "code",
   "execution_count": null,
   "id": "4137982e-b380-4268-9cfc-4447b4b1290e",
   "metadata": {},
   "outputs": [
    {
     "name": "stdout",
     "output_type": "stream",
     "text": [
      "1.0\n"
     ]
    }
   ],
   "source": [
    "# %%\n",
    "\n",
    "# cau 10\n",
    "def my_function(list_nums=[0, 1, 2]):\n",
    "    var = 0\n",
    "    for i in list_nums:\n",
    "        var += i\n",
    "    # Trả về giá trị trung bình của list bằng cách chia var cho số lượng phần tử trong list_nums\n",
    "    return var / len(list_nums)\n",
    "\n",
    "print(my_function())"
   ]
  },
  {
   "cell_type": "code",
   "execution_count": null,
   "id": "2ff892d4-3af6-43b0-adee-2ba40076d841",
   "metadata": {},
   "outputs": [
    {
     "name": "stdout",
     "output_type": "stream",
     "text": [
      "1.0\n"
     ]
    }
   ],
   "source": [
    "# %%\n",
    "\n",
    "# cau 10\n",
    "def my_function(list_nums=[0, 1, 2]):\n",
    "    var = 0\n",
    "    for i in list_nums:\n",
    "        var += i\n",
    "    return var / len(list_nums)\n",
    "\n",
    "print(my_function())"
   ]
  },
  {
   "cell_type": "code",
   "execution_count": null,
   "id": "8f8d1bdb-7e51-476c-a899-94b5e6ebc5e8",
   "metadata": {},
   "outputs": [
    {
     "name": "stdout",
     "output_type": "stream",
     "text": [
      "True\n"
     ]
    }
   ],
   "source": [
    "# %%\n",
    "\n",
    "# cau 10\n",
    "def My_function(integers, number=1):\n",
    "    return any(x == number for x in integers)\n",
    "\n",
    "my_list = [1 , 3 , 9 , 4]\n",
    "assert My_function ( my_list , -1) == False\n",
    "\n",
    "my_list = [1 , 2 , 3 , 4]\n",
    "print ( My_function ( my_list , 2) )"
   ]
  },
  {
   "cell_type": "code",
   "execution_count": null,
   "id": "f6f8dc5c-f962-4047-a4a9-ecdef34f1028",
   "metadata": {},
   "outputs": [
    {
     "name": "stdout",
     "output_type": "stream",
     "text": [
      "True\n"
     ]
    }
   ],
   "source": [
    "# %%\n",
    "\n",
    "# cau 10\n",
    "def My_function(integers, number=1):\n",
    "    return any(x == number for x in integers)\n",
    "\n",
    "my_list = [1, 3, 9, 4]\n",
    "assert My_function(my_list , -1) == False\n",
    "\n",
    "my_list = [1, 2, 3, 4]\n",
    "print (My_function(my_list, 2))"
   ]
  },
  {
   "cell_type": "code",
   "execution_count": null,
   "id": "8e08d278-2e5d-4906-84b1-97f660d1d330",
   "metadata": {},
   "outputs": [
    {
     "name": "stdout",
     "output_type": "stream",
     "text": [
      "1.0\n"
     ]
    }
   ],
   "source": [
    "# %%\n",
    "\n",
    "# cau 11\n",
    "def my_function(list_nums=[0, 1, 2]):\n",
    "    var = 0\n",
    "    for i in list_nums:\n",
    "        var += i\n",
    "    return var / len(list_nums)\n",
    "\n",
    "print(my_function())"
   ]
  },
  {
   "cell_type": "code",
   "execution_count": null,
   "id": "5705b0c8-2b9f-48bd-904c-38946d248527",
   "metadata": {},
   "outputs": [
    {
     "name": "stdout",
     "output_type": "stream",
     "text": [
      "[3, 6]\n"
     ]
    }
   ],
   "source": [
    "# %%\n",
    "\n",
    "# cau 12\n",
    "def my_function(data):\n",
    "    var = []\n",
    "    for i in data:\n",
    "        # Your code here\n",
    "        # Nếu i chia hết cho 3 thì thêm i vào list var\n",
    "        if i % 3 == 0:\n",
    "            var.append(i)\n",
    "    return var\n",
    "\n",
    "print(my_function([1, 2, 3, 5, 6]))"
   ]
  },
  {
   "cell_type": "code",
   "execution_count": null,
   "id": "abd01a46-7b4b-4968-b8b9-03fa76894aec",
   "metadata": {},
   "outputs": [
    {
     "name": "stdout",
     "output_type": "stream",
     "text": [
      "24\n"
     ]
    }
   ],
   "source": [
    "# %%\n",
    "\n",
    "# cau 13\n",
    "def my_function(y):\n",
    "    var = 1\n",
    "    while (y > 1):\n",
    "        # Your code here\n",
    "        var *= y\n",
    "        y -= 1\n",
    "    return var\n",
    "\n",
    "print(my_function(4))"
   ]
  },
  {
   "cell_type": "code",
   "execution_count": null,
   "id": "d4066857-0fbe-477f-905e-6ce81c9f97a7",
   "metadata": {},
   "outputs": [
    {
     "name": "stdout",
     "output_type": "stream",
     "text": [
      "tocirpa\n"
     ]
    }
   ],
   "source": [
    "# %%\n",
    "\n",
    "# cau 14\n",
    "def my_function(x):\n",
    "    # your code here\n",
    "    return x[::-1]\n",
    "\n",
    "x = 'apricot'\n",
    "print(my_function(x))"
   ]
  },
  {
   "cell_type": "code",
   "execution_count": null,
   "id": "c190d360-bc23-440b-b51b-e92c762b4492",
   "metadata": {},
   "outputs": [
    {
     "name": "stdout",
     "output_type": "stream",
     "text": [
      "['T', 'T', 'T', 'N']\n"
     ]
    }
   ],
   "source": [
    "# %%\n",
    "\n",
    "# cau 15\n",
    "def function_helper(x):\n",
    "    if x > 0:\n",
    "        return 'T'\n",
    "    else:\n",
    "        return 'N'\n",
    "\n",
    "def my_function(data):\n",
    "    res = [function_helper(x) for x in data]\n",
    "    return res\n",
    "\n",
    "data = [2, 3, 5, -1]\n",
    "print(my_function(data))"
   ]
  },
  {
   "cell_type": "code",
   "execution_count": null,
   "id": "7ae0a0b7-cd59-40d4-9e97-d738699c8418",
   "metadata": {},
   "outputs": [
    {
     "name": "stdout",
     "output_type": "stream",
     "text": [
      "[9, 8, 1]\n"
     ]
    }
   ],
   "source": [
    "# %%\n",
    "\n",
    "# cau 16\n",
    "def function_helper(x, data):\n",
    "    for i in data:\n",
    "        # Your code here\n",
    "        # Nếu x == i thì return 0\n",
    "        if x == i:\n",
    "            return 0\n",
    "    return 1\n",
    "\n",
    "def my_function(data):\n",
    "    res = []\n",
    "    for i in data:\n",
    "        if function_helper(i, res):\n",
    "            res.append(i)\n",
    "    return res\n",
    "\n",
    "lst = [9, 9, 8, 1, 1]\n",
    "print(my_function(lst))"
   ]
  }
 ],
 "metadata": {
  "language_info": {
   "codemirror_mode": {
    "name": "ipython",
    "version": 3
   },
   "file_extension": ".py",
   "mimetype": "text/x-python",
   "name": "python",
   "nbconvert_exporter": "python",
   "pygments_lexer": "ipython3",
   "version": 3
  }
 },
 "nbformat": 4,
 "nbformat_minor": 2
}
