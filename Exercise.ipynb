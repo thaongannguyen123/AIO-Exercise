{
 "cells": [
  {
   "cell_type": "code",
   "execution_count": null,
   "id": "b2c84cfe-d68e-4fcb-b293-44e6d929946c",
   "metadata": {},
   "outputs": [],
   "source": [
    "#%%\n",
    "\n",
    "# libraries\n",
    "import math\n",
    "import random"
   ]
  },
  {
   "cell_type": "code",
   "execution_count": null,
   "id": "4f224f7b-5c19-413d-b1b2-c34719ade17f",
   "metadata": {},
   "outputs": [],
   "source": [
    "#%%\n",
    "\n",
    "# Tự Luận\n",
    "# Câu 1\n",
    "\n",
    "\n",
    "def evaluate_classification_model(tp, fp, fn):\n",
    "    # Check for datatype of tp, fp, fn\n",
    "    if not isinstance(tp, int) or not isinstance(fp, int) or not isinstance(fn, int):\n",
    "        raise ValueError(\"tp, fp, and fn must be integers.\")\n",
    "    \n",
    "    # Check tp, fp, fn > 0\n",
    "    if tp <= 0 or fp <= 0 or fn <= 0:\n",
    "        raise ValueError(\"tp, fp, and fn must be greater than 0.\")\n",
    "    \n",
    "    # Calculate Precision, Recall, and F1-score\n",
    "    precision = tp / (tp + fp)\n",
    "    recall = tp / (tp + fn)\n",
    "    f1_score = 2 * (precision * recall) / (precision + recall)\n",
    "\n",
    "    return f1_score"
   ]
  },
  {
   "cell_type": "code",
   "execution_count": null,
   "id": "cbfec04f-5eb8-465d-847a-5b4460c8f759",
   "metadata": {},
   "outputs": [
    {
     "name": "stdout",
     "output_type": "stream",
     "text": [
      "elu: f(5.0) = 5.0\n"
     ]
    }
   ],
   "source": [
    "#%%\n",
    "\n",
    "# Câu 2\n",
    "def is_number(n):\n",
    "    try: \n",
    "        float(n)\n",
    "    except ValueError:\n",
    "        return False\n",
    "    return True\n",
    "\n",
    "def activation_function():\n",
    "    x = input('Input x = ')\n",
    "\n",
    "    if not is_number(x):\n",
    "        print('x must be a number.')\n",
    "        return\n",
    "    \n",
    "    x = float(x)\n",
    "\n",
    "    activation_function_name = input('Input activation function (sigmoid|relu|elu): ')\n",
    "    if activation_function_name not in ['sigmoid', 'relu', 'elu']:\n",
    "        print(f'{activation_function_name} is not supported.')\n",
    "        return\n",
    "    \n",
    "    if activation_function_name == 'sigmoid':\n",
    "        result = 1/(1+math.exp(-x))\n",
    "    elif activation_function_name == 'relu':\n",
    "        result = max(0,x)\n",
    "    elif activation_function_name == 'elu':\n",
    "        alpha = 0.01\n",
    "        result = alpha*(math.exp(x)-1) if x <= 0 else x\n",
    "\n",
    "    print(f'{activation_function_name}: f({x}) = {result}')\n",
    "\n",
    "activation_function()"
   ]
  },
  {
   "cell_type": "code",
   "execution_count": null,
   "id": "7161872c-2d31-43d8-acbf-10972685763b",
   "metadata": {},
   "outputs": [
    {
     "name": "stdout",
     "output_type": "stream",
     "text": [
      "Loss name: MAE, sample: 0, pred: 8.155533934855278, target: 9.705082818937727, loss: 1.5495488840824496\n",
      "Loss name: MAE, sample: 1, pred: 8.99644504392892, target: 0.010656624066111009, loss: 8.985788419862809\n"
     ]
    }
   ],
   "source": [
    "#%%\n",
    "\n",
    "# Câu 3\n",
    "def calculate_loss(num_samples, loss_name):\n",
    "    if not num_samples.isnumeric():\n",
    "        print(\"Number of samples must be an integer number.\")\n",
    "        return\n",
    "    \n",
    "    num_samples = int(num_samples)\n",
    "    total_loss = 0\n",
    "\n",
    "    for i in range(num_samples):\n",
    "        pred = random.uniform(0,10)\n",
    "        target = random.uniform(0,10)\n",
    "\n",
    "        if loss_name == 'MAE':\n",
    "            loss = abs(pred-target)\n",
    "        elif loss_name == 'MSE':\n",
    "            loss = (pred-target)**2\n",
    "        elif loss_name == 'RMSE':\n",
    "            loss = (pred-target)**2\n",
    "            total_loss += loss\n",
    "            print(f'Loss name: {loss_name}, sample: {i}, pred: {pred}, target: {target}, loss: {loss}')\n",
    "            continue\n",
    "\n",
    "        print(f'Loss name: {loss_name}, sample: {i}, pred: {pred}, target: {target}, loss: {loss}')\n",
    "        \n",
    "    if loss_name == 'RMSE':\n",
    "        final_rmse = math.sqrt(total_loss/num_samples)\n",
    "        print(f'final {loss_name}: {final_rmse}')\n",
    "\n",
    "# test \n",
    "num_samples = input('Input number of samples (integer number) which are generated: ')\n",
    "loss_name = input('Input loss name: ')\n",
    "calculate_loss(num_samples, loss_name)"
   ]
  },
  {
   "cell_type": "code",
   "execution_count": null,
   "id": "5f398300-7695-4331-b726-ad0cdab82347",
   "metadata": {},
   "outputs": [
    {
     "data": {
      "text/plain": [
       "-0.9999987352210833"
      ]
     },
     "execution_count": 5,
     "metadata": {},
     "output_type": "execute_result"
    }
   ],
   "source": [
    "#%%\n",
    "\n",
    "# Câu 4\n",
    "def factorial(n):\n",
    "    if n == 0:\n",
    "        return 1\n",
    "    else: \n",
    "        return n*factorial(n-1)\n",
    "    \n",
    "def approx_sin(x, n):\n",
    "    result = 0\n",
    "    for i in range(n):\n",
    "        term = ((-1)**i) * (x**(2*i+1)) / factorial(2*i+1)\n",
    "        result += term\n",
    "    return result\n",
    "\n",
    "def approx_cos(x, n):\n",
    "    result = 0\n",
    "    for i in range(n):\n",
    "        term = ((-1)**i) * (x**(2*i)) / factorial(2*i)\n",
    "        result += term\n",
    "    return result\n",
    "\n",
    "def approx_sinh(x, n):\n",
    "    result = 0\n",
    "    for i in range(n):\n",
    "        term = (x**(2*i+1)) / factorial(2*i+1)\n",
    "        result += term\n",
    "    return result\n",
    "\n",
    "def approx_cosh(x, n):\n",
    "    result = 0\n",
    "    for i in range(n):\n",
    "        term = (x**(2*i)) / factorial(2*i)\n",
    "        result += term\n",
    "    return result\n",
    "\n",
    "# test\n",
    "approx_cos(x=3.14,n=10)"
   ]
  },
  {
   "cell_type": "code",
   "execution_count": null,
   "id": "6feb0f61-87e1-4aa8-9e71-c2dc58dec041",
   "metadata": {},
   "outputs": [
    {
     "name": "stdout",
     "output_type": "stream",
     "text": [
      "0.025031328369998107\n",
      "0.03544417213033135\n",
      "0.05625552183565574\n",
      "0.45836890322464546\n"
     ]
    }
   ],
   "source": [
    "#%%\n",
    "\n",
    "# Câu 5\n",
    "def md_nre_single_sample_cau_5(y, y_hat, n, p):\n",
    "    \n",
    "    root_y = y ** (1/n)\n",
    "    root_y_hat = y_hat ** (1/n)\n",
    "    \n",
    "    # Mean Difference of nth Root Error\n",
    "    md_nre = abs(root_y - root_y_hat) ** p\n",
    "    \n",
    "    return md_nre\n",
    "\n",
    "# examples \n",
    "print(md_nre_single_sample_cau_5(y=100, y_hat=99.5, n=2, p=1))  # >> 0.025031328369998107\n",
    "print(md_nre_single_sample_cau_5(y=50, y_hat=49.5, n=2, p=1))   # >> 0.03544417213033135\n",
    "print(md_nre_single_sample_cau_5(y=20, y_hat=19.5, n=2, p=1))   # >> 0.05625552183565574\n",
    "print(md_nre_single_sample_cau_5(y=0.6, y_hat=0.1, n=2, p=1))   # >> 0.45836890322464546"
   ]
  },
  {
   "cell_type": "code",
   "execution_count": null,
   "id": "f76aa1f4-59b9-4ad5-b525-5645b77338e8",
   "metadata": {},
   "outputs": [
    {
     "name": "stdout",
     "output_type": "stream",
     "text": [
      "0.31\n"
     ]
    }
   ],
   "source": [
    "#%%\n",
    "\n",
    "# Trắc Nghiệm\n",
    "# Câu 1\n",
    "assert round(evaluate_classification_model(tp=2, fp=3, fn=5), 2) == 0.33\n",
    "print(round(evaluate_classification_model(tp=2, fp=4, fn=5), 2))\n",
    "# >> 0.31"
   ]
  },
  {
   "cell_type": "code",
   "execution_count": null,
   "id": "0fea4807-a1e1-4043-8838-a0a590da72a4",
   "metadata": {},
   "outputs": [
    {
     "name": "stdout",
     "output_type": "stream",
     "text": [
      "True\n",
      "False\n"
     ]
    }
   ],
   "source": [
    "# %%\n",
    "\n",
    "# Câu 2\n",
    "assert is_number(3) == 1.0\n",
    "assert is_number('-2a') == 0.0\n",
    "print(is_number(1))\n",
    "print(is_number('n'))\n",
    "## >> True, False"
   ]
  },
  {
   "cell_type": "code",
   "execution_count": null,
   "id": "91aad1d8-5cbb-4d26-bbfe-478baf90b5fb",
   "metadata": {},
   "outputs": [
    {
     "name": "stdout",
     "output_type": "stream",
     "text": [
      "0.0\n"
     ]
    }
   ],
   "source": [
    "#%%\n",
    "\n",
    "# Câu 3\n",
    "x = -2.0\n",
    "if x <= 0:\n",
    "    y = 0.0\n",
    "else:\n",
    "    y = x\n",
    "print(y)\n",
    "# >> 0.0 => ReLu"
   ]
  },
  {
   "cell_type": "code",
   "execution_count": null,
   "id": "e02e7f75-dc3a-4867-9f66-14b103e57cc7",
   "metadata": {},
   "outputs": [
    {
     "name": "stdout",
     "output_type": "stream",
     "text": [
      "0.88\n"
     ]
    }
   ],
   "source": [
    "# %%\n",
    "\n",
    "# Câu 4\n",
    "def calc_sig(x):\n",
    "    return 1/(1+math.exp(-x))\n",
    "\n",
    "print(round(calc_sig(2),2))"
   ]
  },
  {
   "cell_type": "code",
   "execution_count": null,
   "id": "3f75a1f0-f706-4068-8c6b-a7e8cf217ddf",
   "metadata": {},
   "outputs": [
    {
     "name": "stdout",
     "output_type": "stream",
     "text": [
      "-0.01\n"
     ]
    }
   ],
   "source": [
    "# %%\n",
    "\n",
    "# Câu 5\n",
    "def calc_elu(x):\n",
    "    alpha = 0.01\n",
    "    if x <= 0:\n",
    "        return alpha*(math.exp(x)-1)\n",
    "    else: \n",
    "        return x\n",
    "\n",
    "print(round(calc_elu(-1),2))"
   ]
  },
  {
   "cell_type": "code",
   "execution_count": null,
   "id": "b5c6ea84-8f35-443d-9551-e8beb90fb501",
   "metadata": {},
   "outputs": [
    {
     "name": "stdout",
     "output_type": "stream",
     "text": [
      "0.95\n"
     ]
    }
   ],
   "source": [
    "# %%\n",
    "\n",
    "# Câu 6\n",
    "def calc_activation_func(x,act_name):\n",
    "    if act_name == 'sigmoid':\n",
    "        return 1/(1+math.exp(-x))\n",
    "    elif act_name == 'relu':\n",
    "        return max(0,x)\n",
    "    elif act_name == 'elu':\n",
    "        alpha = 1\n",
    "        return x if x > 0 else alpha*(math.exp(x)-1)\n",
    "    else: raise ValueError(\"Unsupported activation function\")\n",
    "\n",
    "assert calc_activation_func(x=1,act_name='relu') == 1\n",
    "print(round(calc_activation_func(x=3,act_name='sigmoid'),2))"
   ]
  },
  {
   "cell_type": "code",
   "execution_count": null,
   "id": "6493d6bf-a278-4e3f-9bc2-6938c8697913",
   "metadata": {},
   "outputs": [
    {
     "name": "stdout",
     "output_type": "stream",
     "text": [
      "7\n"
     ]
    }
   ],
   "source": [
    "# %%\n",
    "\n",
    "# Câu 7\n",
    "def calc_ae(y,y_hat):\n",
    "    return abs(y-y_hat)\n",
    "\n",
    "y = 1\n",
    "y_hat = 6\n",
    "assert calc_ae(y,y_hat) == 5\n",
    "\n",
    "y = 2\n",
    "y_hat = 9\n",
    "print(calc_ae(y,y_hat))"
   ]
  },
  {
   "cell_type": "code",
   "execution_count": null,
   "id": "5e4fe0d0-079a-48f5-9358-d9c33b83f8bf",
   "metadata": {},
   "outputs": [
    {
     "name": "stdout",
     "output_type": "stream",
     "text": [
      "1\n"
     ]
    }
   ],
   "source": [
    "# %%\n",
    "\n",
    "# Câu 8\n",
    "def calc_se(y,y_hat):\n",
    "    return abs(y-y_hat)**2\n",
    "y = 4\n",
    "y_hat = 2\n",
    "assert calc_se(y,y_hat) == 4\n",
    "print(calc_se(2,1))"
   ]
  },
  {
   "cell_type": "code",
   "execution_count": null,
   "id": "2089cf9d-d266-4398-a07d-78dacbd00dbb",
   "metadata": {},
   "outputs": [
    {
     "name": "stdout",
     "output_type": "stream",
     "text": [
      "-1.0\n"
     ]
    }
   ],
   "source": [
    "# %%\n",
    "\n",
    "# Câu 9\n",
    "assert round(approx_cos(x=1, n=10), 2) == 0.54\n",
    "print(round(approx_cos(x=3.14, n=10), 2))"
   ]
  },
  {
   "cell_type": "code",
   "execution_count": null,
   "id": "8231e9e7-4496-4883-ae42-f9a194cabcaf",
   "metadata": {},
   "outputs": [
    {
     "name": "stdout",
     "output_type": "stream",
     "text": [
      "0.0016\n"
     ]
    }
   ],
   "source": [
    "# %%\n",
    "\n",
    "# Câu 10\n",
    "assert round(approx_sin(x=1, n=10), 4) == 0.8415\n",
    "print(round(approx_sin(x=3.14, n=10), 4))"
   ]
  },
  {
   "cell_type": "code",
   "execution_count": null,
   "id": "b1a2f805-d899-482e-ad6c-fdbc84071320",
   "metadata": {},
   "outputs": [
    {
     "name": "stdout",
     "output_type": "stream",
     "text": [
      "11.53\n"
     ]
    }
   ],
   "source": [
    "# %%\n",
    "\n",
    "# Câu 11\n",
    "assert round(approx_sinh(x=1,n=10),2) == 1.18\n",
    "print(round(approx_sinh(x=3.14,n=10),2))"
   ]
  },
  {
   "cell_type": "code",
   "execution_count": null,
   "id": "b700b802-71bb-42fd-b7c5-e287c0d506b8",
   "metadata": {},
   "outputs": [
    {
     "name": "stdout",
     "output_type": "stream",
     "text": [
      "11.57\n"
     ]
    }
   ],
   "source": [
    "# %%\n",
    "\n",
    "# Câu 12\n",
    "assert round(approx_cosh(x=1,n=10),2) == 1.54\n",
    "print(round(approx_cosh(x=3.14,n=10),2))"
   ]
  },
  {
   "cell_type": "code",
   "execution_count": null,
   "id": "b1380fb1-19ed-4efe-a2e8-fda398c12ace",
   "metadata": {},
   "outputs": [
    {
     "name": "stdout",
     "output_type": "stream",
     "text": [
      "6.004561589316014e-05\n",
      "6.004561589316014e-05\n",
      "28.444940496568623\n",
      "1.0033472842348656\n",
      "0.007748910626220962\n"
     ]
    }
   ],
   "source": [
    "# %%\n",
    "\n",
    "# Câu 13\n",
    "# (A)\n",
    "def md_nre_single_sample(y,y_hat,n,p):\n",
    "    y_root = y ** (1/ n )\n",
    "    y_hat_root = y_hat ** (1/ n )\n",
    "    difference = y_root - y_hat_root\n",
    "    loss = difference ** p\n",
    "    return loss\n",
    "\n",
    "# (B)\n",
    "def md_nre_single_sample1(y,y_hat,n,p):\n",
    "    y_root = y ** (1/ n )\n",
    "    y_hat_root = y_hat ** (1/2)\n",
    "    difference = y_root - y_hat_root\n",
    "    loss = difference ** p\n",
    "    return loss\n",
    "\n",
    "# (C)\n",
    "def md_nre_single_sample2(y,y_hat,n,p):\n",
    "    y_root = y ** (1/ n )\n",
    "    y_hat_root = y_hat ** (1/ n )\n",
    "    difference = y_root / y_hat_root\n",
    "    loss = difference ** p\n",
    "    return loss\n",
    "\n",
    "# (D)\n",
    "def md_nre_single_sample3(y,y_hat,n,p):\n",
    "    y_root = y ** (1/ n )\n",
    "    y_hat_root = y_hat ** (1/ n )\n",
    "    difference = y_root - y_hat_root\n",
    "    loss = difference\n",
    "    return loss\n",
    "\n",
    "print(md_nre_single_sample_cau_5(y=100, y_hat=99.5, n=3, p=2))  # >> 6.004561589316014e-05\n",
    "print(md_nre_single_sample(y=100, y_hat=99.5, n=3, p=2))  # >> 6.004561589316014e-05\n",
    "print(md_nre_single_sample1(y=100, y_hat=99.5, n=3, p=2))  # >> 28.444940496568623\n",
    "print(md_nre_single_sample2(y=100, y_hat=99.5, n=3, p=2))  # >> 1.0033472842348656\n",
    "print(md_nre_single_sample3(y=100, y_hat=99.5, n=3, p=2))  # >> 0.007748910626220962"
   ]
  }
 ],
 "metadata": {
  "language_info": {
   "codemirror_mode": {
    "name": "ipython",
    "version": 3
   },
   "file_extension": ".py",
   "mimetype": "text/x-python",
   "name": "python",
   "nbconvert_exporter": "python",
   "pygments_lexer": "ipython3",
   "version": 3
  }
 },
 "nbformat": 4,
 "nbformat_minor": 2
}
