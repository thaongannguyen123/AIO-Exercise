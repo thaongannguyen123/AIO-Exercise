{
  "nbformat": 4,
  "nbformat_minor": 0,
  "metadata": {
    "colab": {
      "provenance": []
    },
    "kernelspec": {
      "name": "python3",
      "display_name": "Python 3"
    },
    "language_info": {
      "name": "python"
    }
  },
  "cells": [
    {
      "cell_type": "code",
      "execution_count": null,
      "metadata": {
        "id": "o03L_Uj0Jm8n"
      },
      "outputs": [],
      "source": [
        "import torch\n",
        "import torch.nn as nn\n",
        "import torch.nn.functional as F\n",
        "import torch.optim as optim\n",
        "import torchvision"
      ]
    },
    {
      "cell_type": "markdown",
      "source": [
        "TỰ LUẬN"
      ],
      "metadata": {
        "id": "RUyoDz0sMLLL"
      }
    },
    {
      "cell_type": "markdown",
      "source": [
        "CÂU 1"
      ],
      "metadata": {
        "id": "5H0DGUmSMPDb"
      }
    },
    {
      "cell_type": "code",
      "source": [
        "class Softmax(nn.Module):\n",
        "    def __init__(self):\n",
        "        super(Softmax, self).__init__()\n",
        "\n",
        "    def forward(self, x):\n",
        "        exp_x = torch.exp(x)\n",
        "        sum_exp_x = torch.sum(exp_x)\n",
        "        softmax = exp_x / sum_exp_x\n",
        "        return softmax\n",
        "\n",
        "class SoftmaxStable(nn.Module):\n",
        "    def __init__(self):\n",
        "        super(SoftmaxStable, self).__init__()\n",
        "\n",
        "    def forward(self, x):\n",
        "        shift_x = x - torch.max(x)\n",
        "        exp_x = torch.exp(shift_x)\n",
        "        sum_exp_x = torch.sum(exp_x)\n",
        "        softmax = exp_x / sum_exp_x\n",
        "        return softmax"
      ],
      "metadata": {
        "colab": {
          "base_uri": "https://localhost:8080/"
        },
        "id": "jwuBJ9IVMKDY",
        "outputId": "4e1f27dc-dcdb-43fd-fbc4-7d1d0b63125f"
      },
      "execution_count": null,
      "outputs": [
        {
          "output_type": "stream",
          "name": "stdout",
          "text": [
            "Softmax Output: tensor([0.0900, 0.2447, 0.6652])\n",
            "Stable Softmax Output: tensor([0.0900, 0.2447, 0.6652])\n"
          ]
        }
      ]
    },
    {
      "cell_type": "markdown",
      "source": [
        "example"
      ],
      "metadata": {
        "id": "Z7Fu0We8NFnG"
      }
    },
    {
      "cell_type": "code",
      "source": [
        "data = torch.Tensor([1, 2, 3])\n",
        "\n",
        "# standard Softmax\n",
        "softmax = Softmax()\n",
        "output = softmax(data)\n",
        "print(\"Softmax Output:\", output)\n",
        "\n",
        "# stable version of Softmax\n",
        "softmax_stable = SoftmaxStable()\n",
        "output_stable = softmax_stable(data)\n",
        "print(\"Stable Softmax Output:\", output_stable)"
      ],
      "metadata": {
        "colab": {
          "base_uri": "https://localhost:8080/"
        },
        "id": "Jj8Tgs5rNGoL",
        "outputId": "38fffbf1-5226-40b1-bc1e-7453329c8f3e"
      },
      "execution_count": null,
      "outputs": [
        {
          "output_type": "stream",
          "name": "stdout",
          "text": [
            "Softmax Output: tensor([0.0900, 0.2447, 0.6652])\n",
            "Stable Softmax Output: tensor([0.0900, 0.2447, 0.6652])\n"
          ]
        }
      ]
    },
    {
      "cell_type": "markdown",
      "source": [
        "TRẮC NGHIỆM"
      ],
      "metadata": {
        "id": "lVewG2cifiPF"
      }
    },
    {
      "cell_type": "code",
      "source": [
        "# cau 1\n",
        "softmax_function = nn.Softmax(dim=0)\n",
        "output = softmax_function(data)\n",
        "assert round(output[0].item(),2)==0.09\n",
        "output"
      ],
      "metadata": {
        "colab": {
          "base_uri": "https://localhost:8080/"
        },
        "id": "jd63zim4fhH2",
        "outputId": "6dcb54ec-e77f-4e5a-ea71-39b8eee6eb79"
      },
      "execution_count": null,
      "outputs": [
        {
          "output_type": "execute_result",
          "data": {
            "text/plain": [
              "tensor([0.0900, 0.2447, 0.6652])"
            ]
          },
          "metadata": {},
          "execution_count": 34
        }
      ]
    },
    {
      "cell_type": "code",
      "source": [
        "# cau 2\n",
        "data = torch.Tensor([5, 2, 4])\n",
        "my_softmax = Softmax()\n",
        "output = my_softmax(data)\n",
        "assert round(output[-1].item(),2)==0.26\n",
        "output"
      ],
      "metadata": {
        "colab": {
          "base_uri": "https://localhost:8080/"
        },
        "id": "S6c3fplPgIgg",
        "outputId": "0680d18c-78c6-4ed2-cb1b-d5ed3ce94631"
      },
      "execution_count": null,
      "outputs": [
        {
          "output_type": "execute_result",
          "data": {
            "text/plain": [
              "tensor([0.7054, 0.0351, 0.2595])"
            ]
          },
          "metadata": {},
          "execution_count": 35
        }
      ]
    },
    {
      "cell_type": "code",
      "source": [
        "# cau 3\n",
        "data = torch.Tensor([1, 2, 300000000])\n",
        "my_softmax = Softmax()\n",
        "output = my_softmax(data)\n",
        "assert round(output[0].item(),2)==0.0\n",
        "output"
      ],
      "metadata": {
        "colab": {
          "base_uri": "https://localhost:8080/"
        },
        "id": "5sh1rB7ngY_g",
        "outputId": "4e7db4a4-4b7e-48da-9edb-32e136bbb783"
      },
      "execution_count": null,
      "outputs": [
        {
          "output_type": "execute_result",
          "data": {
            "text/plain": [
              "tensor([0., 0., nan])"
            ]
          },
          "metadata": {},
          "execution_count": 36
        }
      ]
    },
    {
      "cell_type": "code",
      "source": [
        "# cau 4\n",
        "class SoftmaxStable(nn.Module):\n",
        "    def __init__(self):\n",
        "        super().__init__()\n",
        "\n",
        "    def forward(self, x):\n",
        "        x_max = torch.max(x, dim=0, keepdims=True)\n",
        "        x_exp = torch.exp(x - x_max.values)\n",
        "        partition = x_exp.sum(0, keepdims=True)\n",
        "        return x_exp / partition\n",
        "\n",
        "data = torch.Tensor([1, 2, 3])\n",
        "softmax_stable = SoftmaxStable()\n",
        "output = softmax_stable(data)\n",
        "assert round(output[-1].item(), 2) == 0.67\n",
        "output"
      ],
      "metadata": {
        "colab": {
          "base_uri": "https://localhost:8080/"
        },
        "id": "DG2mDD7CgoMc",
        "outputId": "d0837ff5-1e58-40bb-cdfb-85fdf0f2c904"
      },
      "execution_count": null,
      "outputs": [
        {
          "output_type": "execute_result",
          "data": {
            "text/plain": [
              "tensor([0.0900, 0.2447, 0.6652])"
            ]
          },
          "metadata": {},
          "execution_count": 41
        }
      ]
    },
    {
      "cell_type": "markdown",
      "source": [
        "CÂU 2"
      ],
      "metadata": {
        "id": "bqPmVMlnOkoF"
      }
    },
    {
      "cell_type": "code",
      "source": [
        "class Person:\n",
        "    def __init__(self, name, yob):\n",
        "        self.name = name\n",
        "        self.yob = yob\n",
        "\n",
        "    def describe(self):\n",
        "        pass\n",
        "\n",
        "class Student(Person):\n",
        "    def __init__(self, name, yob, grade):\n",
        "        super().__init__(name, yob)\n",
        "        self.grade = grade\n",
        "\n",
        "    def describe(self):\n",
        "        print(f\"Student - Name: {self.name} - YoB: {self.yob} - Grade: {self.grade}\")\n",
        "\n",
        "class Teacher(Person):\n",
        "    def __init__(self, name, yob, subject):\n",
        "        super().__init__(name, yob)\n",
        "        self.subject = subject\n",
        "\n",
        "    def describe(self):\n",
        "        print(f\"Teacher - Name: {self.name} - YoB: {self.yob} - Subject: {self.subject}\")\n",
        "\n",
        "class Doctor(Person):\n",
        "    def __init__(self, name, yob, specialist):\n",
        "        super().__init__(name, yob)\n",
        "        self.specialist = specialist\n",
        "\n",
        "    def describe(self):\n",
        "        print(f\"Doctor - Name: {self.name} - YoB: {self.yob} - Specialist: {self.specialist}\")\n",
        "\n",
        "class Ward:\n",
        "    def __init__(self, name):\n",
        "        self.name = name\n",
        "        self.people = []\n",
        "\n",
        "    def add_person(self, person):\n",
        "        self.people.append(person)\n",
        "\n",
        "    def describe(self):\n",
        "        print(f\"Ward Name: {self.name}\")\n",
        "        for person in self.people:\n",
        "            person.describe()\n",
        "\n",
        "    def count_doctor(self):\n",
        "        return sum(isinstance(person, Doctor) for person in self.people)\n",
        "\n",
        "    def sort_age(self):\n",
        "        self.people.sort(key=lambda person: person.yob)\n",
        "\n",
        "    def compute_average(self):\n",
        "        teachers = [person.yob for person in self.people if isinstance(person, Teacher)]\n",
        "        return sum(teachers) / len(teachers) if teachers else 0\n"
      ],
      "metadata": {
        "id": "A--QGbNnOkTo"
      },
      "execution_count": null,
      "outputs": []
    },
    {
      "cell_type": "markdown",
      "source": [
        "example"
      ],
      "metadata": {
        "id": "1FCoM7AKRe9n"
      }
    },
    {
      "cell_type": "code",
      "source": [
        "# 2(a)\n",
        "student1 = Student(name=\"studentA\", yob=2010, grade=\"7\")\n",
        "student1.describe ()\n",
        "teacher1 = Teacher(name=\"teacherA\", yob=1969, subject=\"Math\")\n",
        "teacher1.describe ()\n",
        "doctor1 = Doctor(name=\"doctorA\", yob=1945, specialist=\"Endocrinologists\")\n",
        "doctor1.describe()"
      ],
      "metadata": {
        "colab": {
          "base_uri": "https://localhost:8080/"
        },
        "id": "IchcbRiEZwNx",
        "outputId": "fb01fcf1-84fa-42c7-fb2d-f9fab415b196"
      },
      "execution_count": null,
      "outputs": [
        {
          "output_type": "stream",
          "name": "stdout",
          "text": [
            "Student - Name: studentA - YoB: 2010 - Grade: 7\n",
            "Teacher - Name: teacherA - YoB: 1969 - Subject: Math\n",
            "Doctor - Name: doctorA - YoB: 1945 - Specialist: Endocrinologists\n"
          ]
        }
      ]
    },
    {
      "cell_type": "code",
      "source": [
        "# 2(b)\n",
        "teacher2 = Teacher(name=\"teacherB\", yob=1995, subject=\"History\")\n",
        "doctor2 = Doctor(name=\"doctorB\", yob=1975, specialist=\"Cardiologists\")\n",
        "\n",
        "ward1 = Ward(name=\"Ward1\")\n",
        "ward1.add_person(student1)\n",
        "ward1.add_person(teacher1)\n",
        "ward1.add_person(teacher2)\n",
        "ward1.add_person(doctor1)\n",
        "ward1.add_person(doctor2)\n",
        "\n",
        "ward1.describe()"
      ],
      "metadata": {
        "colab": {
          "base_uri": "https://localhost:8080/"
        },
        "id": "nnLI6vDXZ4XU",
        "outputId": "eefd28b8-c10b-4746-e6db-264a3c8dd0c9"
      },
      "execution_count": null,
      "outputs": [
        {
          "output_type": "stream",
          "name": "stdout",
          "text": [
            "Ward Name: Ward1\n",
            "Student - Name: studentA - YoB: 2010 - Grade: 7\n",
            "Teacher - Name: teacherA - YoB: 1969 - Subject: Math\n",
            "Teacher - Name: teacherB - YoB: 1995 - Subject: History\n",
            "Doctor - Name: doctorA - YoB: 1945 - Specialist: Endocrinologists\n",
            "Doctor - Name: doctorB - YoB: 1975 - Specialist: Cardiologists\n"
          ]
        }
      ]
    },
    {
      "cell_type": "code",
      "source": [
        "# 2(c)\n",
        "print(f\"\\nNumber of doctors: {ward1.count_doctor()}\")"
      ],
      "metadata": {
        "colab": {
          "base_uri": "https://localhost:8080/"
        },
        "id": "pUF6ptQ5aFY-",
        "outputId": "419a36fa-4f8b-45b7-f7f8-b3c13b59259e"
      },
      "execution_count": null,
      "outputs": [
        {
          "output_type": "stream",
          "name": "stdout",
          "text": [
            "\n",
            "Number of doctors: 2\n"
          ]
        }
      ]
    },
    {
      "cell_type": "code",
      "source": [
        "# 2(d)\n",
        "print(\"\\nAfter sorting Age of Ward1 people\")\n",
        "ward1.sort_age()\n",
        "ward1.describe()"
      ],
      "metadata": {
        "colab": {
          "base_uri": "https://localhost:8080/"
        },
        "id": "d6Ill_QyRgID",
        "outputId": "4c5f2237-d77e-4461-eaac-7709ffd060c9"
      },
      "execution_count": null,
      "outputs": [
        {
          "output_type": "stream",
          "name": "stdout",
          "text": [
            "\n",
            "After sorting Age of Ward1 people\n",
            "Ward Name: Ward1\n",
            "Doctor - Name: doctorA - YoB: 1945 - Specialist: Endocrinologists\n",
            "Teacher - Name: teacherA - YoB: 1969 - Subject: Math\n",
            "Doctor - Name: doctorB - YoB: 1975 - Specialist: Cardiologists\n",
            "Teacher - Name: teacherB - YoB: 1995 - Subject: History\n",
            "Student - Name: studentA - YoB: 2010 - Grade: 7\n"
          ]
        }
      ]
    },
    {
      "cell_type": "code",
      "source": [
        "# 2(e)\n",
        "print(f\"\\nAverage year of birth (teachers): {ward1.compute_average()}\")"
      ],
      "metadata": {
        "colab": {
          "base_uri": "https://localhost:8080/"
        },
        "id": "O-Dzi6Q3aLX8",
        "outputId": "0f9d99e3-2745-4173-846b-f3927bbeb933"
      },
      "execution_count": null,
      "outputs": [
        {
          "output_type": "stream",
          "name": "stdout",
          "text": [
            "\n",
            "Average year of birth (teachers): 1982.0\n"
          ]
        }
      ]
    },
    {
      "cell_type": "markdown",
      "source": [
        "TRẮC NGHIỆM"
      ],
      "metadata": {
        "id": "Jg9j3WLgianq"
      }
    },
    {
      "cell_type": "code",
      "source": [
        "# cau 5\n",
        "from abc import ABC, abstractmethod\n",
        "\n",
        "class Person(ABC):\n",
        "    def __init__(self, name: str, yob: int):\n",
        "        self._name = name\n",
        "        self._yob = yob\n",
        "\n",
        "    def get_yob(self):\n",
        "        return self._yob\n",
        "\n",
        "    @abstractmethod\n",
        "    def describe(self):\n",
        "        pass\n",
        "\n",
        "class Student(Person):\n",
        "    def __init__(self, name: str, yob: int, grade: str):\n",
        "        super().__init__(name, yob)\n",
        "        self._grade = grade\n",
        "\n",
        "    def describe(self):\n",
        "        print(f\"Student - Name: {self._name} - YoB: {self._yob} - Grade: {self._grade}\")\n",
        "\n",
        "# Create an instance of Student\n",
        "student1 = Student(name=\"studentZ2023\", yob=2011, grade=\"6\")\n",
        "assert student1._yob == 2011\n",
        "student1.describe()"
      ],
      "metadata": {
        "colab": {
          "base_uri": "https://localhost:8080/"
        },
        "id": "9tkgSPM8iaS_",
        "outputId": "cee29e3b-2c60-4fdd-a0a1-aa5bc87884e6"
      },
      "execution_count": null,
      "outputs": [
        {
          "output_type": "stream",
          "name": "stdout",
          "text": [
            "Student - Name: studentZ2023 - YoB: 2011 - Grade: 6\n"
          ]
        }
      ]
    },
    {
      "cell_type": "code",
      "source": [
        "# cau 6\n",
        "class Person(ABC):\n",
        "    def __init__(self, name: str, yob: int):\n",
        "        self._name = name\n",
        "        self._yob = yob\n",
        "\n",
        "    def get_yob(self):\n",
        "        return self._yob\n",
        "\n",
        "    @abstractmethod\n",
        "    def describe(self):\n",
        "        pass\n",
        "\n",
        "class Teacher(Person):\n",
        "    def __init__(self, name: str, yob: int, subject: str):\n",
        "        super().__init__(name, yob)\n",
        "        self._subject = subject\n",
        "\n",
        "    def describe(self):\n",
        "        print(f\"Teacher - Name: {self._name} - YoB: {self._yob} - Subject: {self._subject}\")\n",
        "\n",
        "# Create an instance of Teacher\n",
        "teacher1 = Teacher(name=\"teacherZ2023\", yob=1991, subject=\"History\")\n",
        "assert teacher1._yob == 1991\n",
        "teacher1.describe()"
      ],
      "metadata": {
        "colab": {
          "base_uri": "https://localhost:8080/"
        },
        "id": "PgpdzMq3jBkX",
        "outputId": "d9e9314e-c906-4182-863d-237472bc0ed1"
      },
      "execution_count": null,
      "outputs": [
        {
          "output_type": "stream",
          "name": "stdout",
          "text": [
            "Teacher - Name: teacherZ2023 - YoB: 1991 - Subject: History\n"
          ]
        }
      ]
    },
    {
      "cell_type": "code",
      "source": [
        "# cau 7\n",
        "class Person(ABC):\n",
        "    def __init__(self, name: str, yob: int):\n",
        "        self._name = name\n",
        "        self._yob = yob\n",
        "\n",
        "    def get_yob(self):\n",
        "        return self._yob\n",
        "\n",
        "    @abstractmethod\n",
        "    def describe(self):\n",
        "        pass\n",
        "\n",
        "class Doctor(Person):\n",
        "    def __init__(self, name: str, yob: int, specialist: str):\n",
        "        super().__init__(name, yob)\n",
        "        self._specialist = specialist\n",
        "\n",
        "    def describe(self):\n",
        "        print(f\"Doctor - Name: {self._name} - YoB: {self._yob} - Specialist: {self._specialist}\")\n",
        "\n",
        "# Create an instance of Doctor\n",
        "doctor1 = Doctor(name=\"doctorZ2023\", yob=1981, specialist=\"Endocrinologists\")\n",
        "assert doctor1._yob == 1981\n",
        "doctor1.describe()"
      ],
      "metadata": {
        "colab": {
          "base_uri": "https://localhost:8080/"
        },
        "id": "4IiuRoDojbEL",
        "outputId": "ef33a21b-8b5f-4061-c083-f5a301c8baea"
      },
      "execution_count": null,
      "outputs": [
        {
          "output_type": "stream",
          "name": "stdout",
          "text": [
            "Doctor - Name: doctorZ2023 - YoB: 1981 - Specialist: Endocrinologists\n"
          ]
        }
      ]
    },
    {
      "cell_type": "code",
      "source": [
        "# cau 8\n",
        "class Ward:\n",
        "    def __init__(self, name: str):\n",
        "        self.__name = name\n",
        "        self.__listPeople = []\n",
        "\n",
        "    def add_person(self, person: Person):\n",
        "        self.__listPeople.append(person)\n",
        "\n",
        "    def describe(self):\n",
        "        print(f\"Ward Name: {self.__name}\")\n",
        "        for p in self.__listPeople:\n",
        "            p.describe()\n",
        "\n",
        "    def count_doctor(self):\n",
        "        count = 0\n",
        "        for person in self.__listPeople:\n",
        "            if isinstance(person, Doctor):\n",
        "                count += 1\n",
        "        return count\n",
        "\n",
        "# Assuming the classes Person, Student, Teacher, and Doctor are defined as per previous examples\n",
        "student1 = Student(name=\"studentA\", yob=2010, grade=\"7\")\n",
        "teacher1 = Teacher(name=\"teacherA\", yob=1969, subject=\"Math\")\n",
        "teacher2 = Teacher(name=\"teacherB\", yob=1995, subject=\"History\")\n",
        "doctor1 = Doctor(name=\"doctorA\", yob=1945, specialist=\"Endocrinologists\")\n",
        "doctor2 = Doctor(name=\"doctorB\", yob=1975, specialist=\"Cardiologists\")\n",
        "\n",
        "ward1 = Ward(name=\"Ward1\")\n",
        "ward1.add_person(student1)\n",
        "ward1.add_person(teacher1)\n",
        "ward1.add_person(teacher2)\n",
        "ward1.add_person(doctor1)\n",
        "ward1.add_person(doctor2)\n",
        "\n",
        "# Count the number of doctors\n",
        "print(ward1.count_doctor())"
      ],
      "metadata": {
        "colab": {
          "base_uri": "https://localhost:8080/"
        },
        "id": "5SMoZiSNmDLw",
        "outputId": "9f704343-3645-4d41-ec2a-724c0eae743a"
      },
      "execution_count": null,
      "outputs": [
        {
          "output_type": "stream",
          "name": "stdout",
          "text": [
            "2\n"
          ]
        }
      ]
    },
    {
      "cell_type": "markdown",
      "source": [
        "CÂU 3"
      ],
      "metadata": {
        "id": "u2AW2vE1aoOq"
      }
    },
    {
      "cell_type": "code",
      "source": [
        "class MyStack:\n",
        "    def __init__(self, capacity):\n",
        "        self.capacity = capacity\n",
        "        self.stack = []\n",
        "\n",
        "    def is_empty(self):\n",
        "        return len(self.stack) == 0\n",
        "\n",
        "    def is_full(self):\n",
        "        return len(self.stack) == self.capacity\n",
        "\n",
        "    def push(self, value):\n",
        "        if not self.is_full():\n",
        "            self.stack.append(value)\n",
        "        else:\n",
        "            raise Exception(\"Stack is full\")\n",
        "\n",
        "    def pop(self):\n",
        "        if not self.is_empty():\n",
        "            return self.stack.pop()\n",
        "        else:\n",
        "            raise Exception(\"Stack is empty\")\n",
        "\n",
        "    def top(self):\n",
        "        if not self.is_empty():\n",
        "            return self.stack[-1]\n",
        "        else:\n",
        "            raise Exception(\"Stack is empty\")\n"
      ],
      "metadata": {
        "id": "yOZ0NwGBapa7"
      },
      "execution_count": null,
      "outputs": []
    },
    {
      "cell_type": "code",
      "source": [
        "stack1 = MyStack(capacity=5)\n",
        "\n",
        "stack1.push(1)\n",
        "stack1.push(2)\n",
        "\n",
        "print(stack1.is_full())\n",
        "print(stack1.top())\n",
        "print(stack1.pop())\n",
        "print(stack1.top())\n",
        "print(stack1.pop())\n",
        "print(stack1.is_empty())"
      ],
      "metadata": {
        "colab": {
          "base_uri": "https://localhost:8080/"
        },
        "id": "rVvM_5oxdkEO",
        "outputId": "a3a957bd-2c3c-445c-feb8-5c909d9f9311"
      },
      "execution_count": null,
      "outputs": [
        {
          "output_type": "stream",
          "name": "stdout",
          "text": [
            "False\n",
            "2\n",
            "2\n",
            "1\n",
            "1\n",
            "True\n"
          ]
        }
      ]
    },
    {
      "cell_type": "markdown",
      "source": [
        "TRẮC NGHIỆM"
      ],
      "metadata": {
        "id": "wma05Iw0meMj"
      }
    },
    {
      "cell_type": "code",
      "source": [
        "# cau 9\n",
        "class MyStack:\n",
        "    def __init__(self, capacity):\n",
        "        self.__capacity = capacity\n",
        "        self.__stack = []\n",
        "\n",
        "    def is_full(self):\n",
        "        return len(self.__stack) == self.__capacity\n",
        "\n",
        "    def push(self, value):\n",
        "        if not self.is_full():\n",
        "            self.__stack.append(value)\n",
        "        else:\n",
        "            raise Exception(\"Stack is full\")\n",
        "\n",
        "stack1 = MyStack(capacity=5)\n",
        "stack1.push(1)\n",
        "assert stack1.is_full() == False\n",
        "stack1.push(2)\n",
        "print(stack1.is_full())"
      ],
      "metadata": {
        "colab": {
          "base_uri": "https://localhost:8080/"
        },
        "id": "vzvlB5O_mhuH",
        "outputId": "bdd77e3f-1a94-4c72-dea6-26494ea0ccd3"
      },
      "execution_count": null,
      "outputs": [
        {
          "output_type": "stream",
          "name": "stdout",
          "text": [
            "False\n"
          ]
        }
      ]
    },
    {
      "cell_type": "code",
      "source": [
        "class MyStack:\n",
        "    def __init__(self, capacity):\n",
        "        self.__capacity = capacity\n",
        "        self.__stack = []\n",
        "\n",
        "    def is_full(self):\n",
        "        return len(self.__stack) == self.__capacity\n",
        "\n",
        "    def push(self, value):\n",
        "        if not self.is_full():\n",
        "            self.__stack.append(value)\n",
        "        else:\n",
        "            raise Exception(\"Stack is full\")\n",
        "\n",
        "    def top(self):\n",
        "        if not self.is_empty():\n",
        "            return self.__stack[-1]\n",
        "        else:\n",
        "            raise Exception(\"Stack is empty\")\n",
        "\n",
        "    def is_empty(self):\n",
        "        return len(self.__stack) == 0\n",
        "\n",
        "stack1 = MyStack(capacity=5)\n",
        "stack1.push(1)\n",
        "assert stack1.is_full() == False\n",
        "stack1.push(2)\n",
        "print(stack1.top())"
      ],
      "metadata": {
        "colab": {
          "base_uri": "https://localhost:8080/"
        },
        "id": "TiDts96ppqTw",
        "outputId": "0a9b2661-76aa-4677-fd79-ed33bb5820da"
      },
      "execution_count": null,
      "outputs": [
        {
          "output_type": "stream",
          "name": "stdout",
          "text": [
            "2\n"
          ]
        }
      ]
    },
    {
      "cell_type": "markdown",
      "source": [
        "CÂU 4"
      ],
      "metadata": {
        "id": "_Mg9IQLPeYcO"
      }
    },
    {
      "cell_type": "code",
      "source": [
        "class MyQueue:\n",
        "    def __init__(self, capacity):\n",
        "        self.capacity = capacity\n",
        "        self.queue = []\n",
        "\n",
        "    def is_empty(self):\n",
        "        return len(self.queue) == 0\n",
        "\n",
        "    def is_full(self):\n",
        "        return len(self.queue) == self.capacity\n",
        "\n",
        "    def enqueue(self, value):\n",
        "        if not self.is_full():\n",
        "            self.queue.append(value)\n",
        "        else:\n",
        "            raise Exception(\"Queue is full\")\n",
        "\n",
        "    def dequeue(self):\n",
        "        if not self.is_empty():\n",
        "            return self.queue.pop(0)\n",
        "        else:\n",
        "            raise Exception(\"Queue is empty\")\n",
        "\n",
        "    def front(self):\n",
        "        if not self.is_empty():\n",
        "            return self.queue[0]\n",
        "        else:\n",
        "            raise Exception(\"Queue is empty\")"
      ],
      "metadata": {
        "id": "Eawcr6clea9S"
      },
      "execution_count": null,
      "outputs": []
    },
    {
      "cell_type": "code",
      "source": [
        "queue1 = MyQueue(capacity=5)\n",
        "\n",
        "queue1.enqueue(1)\n",
        "queue1.enqueue(2)\n",
        "\n",
        "print(queue1.is_full())\n",
        "print(queue1.front())\n",
        "print(queue1.dequeue())\n",
        "print(queue1.front())\n",
        "print(queue1.dequeue())\n",
        "print(queue1.is_empty())"
      ],
      "metadata": {
        "colab": {
          "base_uri": "https://localhost:8080/"
        },
        "id": "iGHk1jpZe_UG",
        "outputId": "cf9f2a0c-1f4d-439e-9629-feba1ecf17e8"
      },
      "execution_count": null,
      "outputs": [
        {
          "output_type": "stream",
          "name": "stdout",
          "text": [
            "False\n",
            "1\n",
            "1\n",
            "2\n",
            "2\n",
            "True\n"
          ]
        }
      ]
    },
    {
      "cell_type": "code",
      "source": [
        "# cau 11\n",
        "queue1 = MyQueue(capacity=5)\n",
        "queue1.enqueue(1)\n",
        "assert queue1.is_full() == False\n",
        "queue1.enqueue(2)\n",
        "print(queue1.is_full())"
      ],
      "metadata": {
        "colab": {
          "base_uri": "https://localhost:8080/"
        },
        "id": "rlG-0E1_fcY-",
        "outputId": "defff228-1908-4263-f58a-a1d80ef5e700"
      },
      "execution_count": null,
      "outputs": [
        {
          "output_type": "stream",
          "name": "stdout",
          "text": [
            "False\n"
          ]
        }
      ]
    },
    {
      "cell_type": "code",
      "source": [
        "# cau 12\n",
        "queue1 = MyQueue(capacity=5)\n",
        "queue1.enqueue(1)\n",
        "assert queue1.is_full() == False\n",
        "print(queue1.front())"
      ],
      "metadata": {
        "colab": {
          "base_uri": "https://localhost:8080/"
        },
        "id": "zDdhDo8iqMTV",
        "outputId": "58bd088f-e6bc-4431-d9f0-d8b3914367fc"
      },
      "execution_count": null,
      "outputs": [
        {
          "output_type": "stream",
          "name": "stdout",
          "text": [
            "1\n"
          ]
        }
      ]
    },
    {
      "cell_type": "code",
      "source": [],
      "metadata": {
        "id": "fSHlgxUSqtYP"
      },
      "execution_count": null,
      "outputs": []
    }
  ]
}